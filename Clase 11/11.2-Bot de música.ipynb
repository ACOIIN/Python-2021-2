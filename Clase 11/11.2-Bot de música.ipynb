{
 "cells": [
  {
   "cell_type": "markdown",
   "id": "d68e4218",
   "metadata": {},
   "source": [
    "# Bot de música\n",
    "En esta clase veremos cómo hacer un bot básico de música."
   ]
  },
  {
   "cell_type": "markdown",
   "id": "a1c1f812",
   "metadata": {},
   "source": [
    "<div>\n",
    "<img src=\"images/music.jpg\" width=\"600\" align=\"center\"/>\n",
    "</div>"
   ]
  },
  {
   "cell_type": "markdown",
   "id": "4c5db557",
   "metadata": {},
   "source": [
    "## 1.- Entrar y salir al canal de voz\n",
    "Primero veamos cómo hacer que el bot ingrese y salga al canal de voz.\n"
   ]
  },
  {
   "cell_type": "markdown",
   "id": "8d788cde",
   "metadata": {},
   "source": [
    "Para ingresar a un canal, basta hacer\n",
    "\n",
    "```\n",
    "channel = ctx.author.voice.channel\n",
    "await channel.connect()```\n",
    "\n",
    "Donde `ctx` es el contexto del comando."
   ]
  },
  {
   "cell_type": "markdown",
   "id": "b56c6848",
   "metadata": {},
   "source": [
    "Para salir\n",
    "\n",
    "`await ctx.voice_client.disconnect()`\n",
    "\n",
    "Donde `ctx` es el contexto del comando."
   ]
  },
  {
   "cell_type": "markdown",
   "id": "8f2f6c45",
   "metadata": {},
   "source": [
    "Antes de ocupar los comandos presentados se debe instalar la libería `PyNaCl`. \n",
    "\n",
    "`pip3 install PyNaCl`"
   ]
  },
  {
   "cell_type": "code",
   "execution_count": null,
   "id": "f9459935",
   "metadata": {},
   "outputs": [],
   "source": [
    "@bot.command()\n",
    "async def join(ctx):\n",
    "    channel = ctx.author.voice.channel\n",
    "    await channel.connect()\n",
    "\n",
    "@bot.command()\n",
    "async def leave(ctx):\n",
    "    await ctx.voice_client.disconnect()"
   ]
  },
  {
   "cell_type": "markdown",
   "id": "983eb7f1",
   "metadata": {},
   "source": [
    "## 2.- Reproducir mp3\n",
    "Ahora veremos cómo hacer que el bot reproduzca un archivo mp3."
   ]
  },
  {
   "cell_type": "markdown",
   "id": "27abc2a1",
   "metadata": {},
   "source": [
    "Para reproducir un audio, podemos ocupar el siguiente comando\n",
    "\n",
    "`\n",
    "source = discord.FFmpegPCMAudio('audio.mp3')\n",
    "ctx.voice_client.play(source)`\n",
    "\n",
    "Donde `ctx` es el contexto del comando. `audio.mp3` se reemplaza por el nombre del archivo de audio que queremos reproducir."
   ]
  },
  {
   "cell_type": "code",
   "execution_count": null,
   "id": "3842b4a2",
   "metadata": {},
   "outputs": [],
   "source": [
    "@bot.command()\n",
    "async def play(ctx):\n",
    "    # nos aseguramos de que no se este re\n",
    "    source = discord.FFmpegPCMAudio('audio.mp3')\n",
    "    ctx.voice_client.play(source)"
   ]
  },
  {
   "cell_type": "markdown",
   "id": "ad371d12",
   "metadata": {},
   "source": [
    "## 3.- Descargar audio desde Youtube\n",
    "La implementación que vamos a usar es descargar el archivo de audio de del video de YouTube que coloquemos y desde ese archivo nuestro bot va a reproducir la canción.\n",
    "\n",
    "Se va a ocupar la libería `youtube_dl` que nos permite descargar en formato de audio videos de YouTube.\n",
    "\n",
    "Copía y pega el siguiente bloque sacado de este [tutorial](https://medium.com/pythonland/build-a-discord-bot-in-python-that-plays-music-and-send-gifs-856385e605a1)."
   ]
  },
  {
   "cell_type": "code",
   "execution_count": null,
   "id": "188e9803",
   "metadata": {},
   "outputs": [],
   "source": [
    "import youtube_dl\n",
    "\n",
    "youtube_dl.utils.bug_reports_message = lambda: ''\n",
    "\n",
    "ytdl_format_options = {\n",
    "    'format': 'bestaudio/best',\n",
    "    'restrictfilenames': True,\n",
    "    'noplaylist': False,\n",
    "    'nocheckcertificate': True,\n",
    "    'ignoreerrors': False,\n",
    "    'logtostderr': False,\n",
    "    'quiet': True,\n",
    "    'no_warnings': True,\n",
    "    'default_search': 'auto',\n",
    "    'source_address': '0.0.0.0' # bind to ipv4 since ipv6 addresses cause issues sometimes\n",
    "}\n",
    "\n",
    "ffmpeg_options = {\n",
    "    'options': '-vn'\n",
    "}\n",
    "\n",
    "ytdl = youtube_dl.YoutubeDL(ytdl_format_options)\n",
    "\n",
    "class YTDLSource(discord.PCMVolumeTransformer):\n",
    "    def __init__(self, source, *, data, volume=0.5):\n",
    "        super().__init__(source, volume)\n",
    "        self.data = data\n",
    "        self.title = data.get('title')\n",
    "        self.url = \"\"\n",
    "\n",
    "    @classmethod\n",
    "    async def from_url(cls, url, *, loop=None, stream=False):\n",
    "        loop = loop or asyncio.get_event_loop()\n",
    "        data = await loop.run_in_executor(None, lambda: ytdl.extract_info(url, download=not stream))\n",
    "        if 'entries' in data:\n",
    "            # take first item from a playlist\n",
    "            data = data['entries'][0]\n",
    "        filename = data['title'] if stream else ytdl.prepare_filename(data)\n",
    "        return filename"
   ]
  },
  {
   "cell_type": "markdown",
   "id": "2bbc42c7",
   "metadata": {},
   "source": [
    "`YTDLSource` es una clase que descarga un archivo de audio desde el link de un video de YouTube.\n",
    "\n",
    "Entonces para reproducir un video:\n",
    "\n",
    "`filename = await YTDLSource.from_url(url, loop=bot.loop)\n",
    " voice_channel.play(discord.FFmpegPCMAudio(source=filename))`"
   ]
  },
  {
   "cell_type": "code",
   "execution_count": null,
   "id": "cfe12cd7",
   "metadata": {},
   "outputs": [],
   "source": [
    "@bot.command()\n",
    "async def play_url(ctx,url):\n",
    "    filename = await YTDLSource.from_url(url, loop=bot.loop)\n",
    "    ctx.voice_client.play(discord.FFmpegPCMAudio(source=filename))"
   ]
  },
  {
   "cell_type": "markdown",
   "id": "3e64afa3",
   "metadata": {},
   "source": [
    "## 4.- Reproducción por stream\n",
    "Para no necesitar descargar el archivo se hace la siguiente modificación a la clase `YTDLSource`"
   ]
  },
  {
   "cell_type": "markdown",
   "id": "35a96057",
   "metadata": {},
   "source": [
    "en el metodo `from_url` cambiamos el argumento de `stream=False` a `stream=True` y cambiamos el return a:\n",
    "\n",
    "`return cls(discord.FFmpegPCMAudio(filename, **ffmpeg_options), data=data)`"
   ]
  },
  {
   "cell_type": "markdown",
   "id": "831a7b46",
   "metadata": {},
   "source": [
    "Y cambiamos el comando `play_url` a:"
   ]
  },
  {
   "cell_type": "code",
   "execution_count": null,
   "id": "80a02602",
   "metadata": {},
   "outputs": [],
   "source": [
    "@bot.command()\n",
    "async def play_url(ctx, url):\n",
    "    player = await YTDLSource.from_url(url, loop=bot.loop)\n",
    "    ctx.voice_client.play(player)"
   ]
  },
  {
   "cell_type": "markdown",
   "id": "919b1c9f",
   "metadata": {},
   "source": [
    "## 5.- Ejercicio: pausa, continuar y parar\n",
    "Busquen cómo se implementa esto ayudandose de la documentación respectiva de [VoiceClient](https://discordpy.readthedocs.io/en/stable/api.html?highlight=play#voiceclient)."
   ]
  }
 ],
 "metadata": {
  "kernelspec": {
   "display_name": "Python 3 (ipykernel)",
   "language": "python",
   "name": "python3"
  },
  "language_info": {
   "codemirror_mode": {
    "name": "ipython",
    "version": 3
   },
   "file_extension": ".py",
   "mimetype": "text/x-python",
   "name": "python",
   "nbconvert_exporter": "python",
   "pygments_lexer": "ipython3",
   "version": "3.8.10"
  }
 },
 "nbformat": 4,
 "nbformat_minor": 5
}
