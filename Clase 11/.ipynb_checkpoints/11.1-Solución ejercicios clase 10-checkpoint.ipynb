{
 "cells": [
  {
   "cell_type": "markdown",
   "id": "56eefbdf",
   "metadata": {
    "slideshow": {
     "slide_type": "slide"
    }
   },
   "source": [
    "# Solución ejercicios clase 10\n"
   ]
  },
  {
   "cell_type": "markdown",
   "id": "bf3da46e",
   "metadata": {
    "slideshow": {
     "slide_type": "fragment"
    }
   },
   "source": [
    "<div>\n",
    "<img src=\"images/solution.jpg\" width=\"600\" align=\"center\"/>\n",
    "</div>"
   ]
  },
  {
   "cell_type": "markdown",
   "id": "2de165e2",
   "metadata": {
    "slideshow": {
     "slide_type": "slide"
    }
   },
   "source": [
    "## 1. Trabajando con asyncio"
   ]
  },
  {
   "cell_type": "code",
   "execution_count": 2,
   "id": "5267175f",
   "metadata": {
    "slideshow": {
     "slide_type": "fragment"
    }
   },
   "outputs": [],
   "source": [
    "import asyncio"
   ]
  },
  {
   "cell_type": "code",
   "execution_count": 8,
   "id": "429ea836",
   "metadata": {
    "slideshow": {
     "slide_type": "fragment"
    }
   },
   "outputs": [
    {
     "name": "stdout",
     "output_type": "stream",
     "text": [
      "Ingrese T: 5\n",
      "Ingrese P: 2\n",
      "Ingrese M: 2\n",
      "Estoy estudiando\n",
      "...\n",
      "Estoy estudiando\n",
      "...\n",
      "viendo memes\n",
      "...\n",
      "...\n",
      "de vuelta al estudio\n",
      "Estoy estudiando\n",
      "...\n",
      "---Sesion terminada---\n"
     ]
    }
   ],
   "source": [
    "async def time_pass(X):\n",
    "    for i in range(X):\n",
    "        print(\"...\")\n",
    "        await asyncio.sleep(1)\n",
    "\n",
    "async def ver_memes(P):\n",
    "    print(\"viendo memes\")\n",
    "    await time_pass(P)\n",
    "    print(\"de vuelta al estudio\")\n",
    "\n",
    "async def estudio():\n",
    "    print(\"Estoy estudiando\")\n",
    "    await time_pass(1)\n",
    "\n",
    "async def sesion(P, M):\n",
    "    while True:\n",
    "        for i in range(M):\n",
    "            await estudio()\n",
    "        await ver_memes(P)\n",
    "\n",
    "T = int(input(\"Ingrese T: \"))\n",
    "P = int(input(\"Ingrese P: \"))\n",
    "M = int(input(\"Ingrese M: \"))\n",
    "\n",
    "try:\n",
    "    await asyncio.wait_for(sesion(P, M), timeout=T)\n",
    "except asyncio.TimeoutError:\n",
    "    print(\"---Sesion terminada---\")"
   ]
  },
  {
   "cell_type": "code",
   "execution_count": 5,
   "id": "f122e876",
   "metadata": {},
   "outputs": [
    {
     "ename": "TimeoutError",
     "evalue": "",
     "output_type": "error",
     "traceback": [
      "\u001b[0;31m---------------------------------------------------------------------------\u001b[0m",
      "\u001b[0;31mTimeoutError\u001b[0m                              Traceback (most recent call last)",
      "\u001b[0;32m/tmp/ipykernel_23714/3360945003.py\u001b[0m in \u001b[0;36m<module>\u001b[0;34m\u001b[0m\n\u001b[1;32m      3\u001b[0m     \u001b[0mprint\u001b[0m\u001b[0;34m(\u001b[0m\u001b[0;34m\"fin de la espera\"\u001b[0m\u001b[0;34m)\u001b[0m\u001b[0;34m\u001b[0m\u001b[0;34m\u001b[0m\u001b[0m\n\u001b[1;32m      4\u001b[0m \u001b[0;34m\u001b[0m\u001b[0m\n\u001b[0;32m----> 5\u001b[0;31m \u001b[0;32mawait\u001b[0m \u001b[0masyncio\u001b[0m\u001b[0;34m.\u001b[0m\u001b[0mwait_for\u001b[0m\u001b[0;34m(\u001b[0m\u001b[0mespera\u001b[0m\u001b[0;34m(\u001b[0m\u001b[0;36m10\u001b[0m\u001b[0;34m)\u001b[0m\u001b[0;34m,\u001b[0m \u001b[0mtimeout\u001b[0m\u001b[0;34m=\u001b[0m\u001b[0;36m5\u001b[0m\u001b[0;34m)\u001b[0m\u001b[0;34m\u001b[0m\u001b[0;34m\u001b[0m\u001b[0m\n\u001b[0m",
      "\u001b[0;32m/usr/lib/python3.8/asyncio/tasks.py\u001b[0m in \u001b[0;36mwait_for\u001b[0;34m(fut, timeout, loop)\u001b[0m\n\u001b[1;32m    499\u001b[0m             \u001b[0;31m# See https://bugs.python.org/issue32751\u001b[0m\u001b[0;34m\u001b[0m\u001b[0;34m\u001b[0m\u001b[0;34m\u001b[0m\u001b[0m\n\u001b[1;32m    500\u001b[0m             \u001b[0;32mawait\u001b[0m \u001b[0m_cancel_and_wait\u001b[0m\u001b[0;34m(\u001b[0m\u001b[0mfut\u001b[0m\u001b[0;34m,\u001b[0m \u001b[0mloop\u001b[0m\u001b[0;34m=\u001b[0m\u001b[0mloop\u001b[0m\u001b[0;34m)\u001b[0m\u001b[0;34m\u001b[0m\u001b[0;34m\u001b[0m\u001b[0m\n\u001b[0;32m--> 501\u001b[0;31m             \u001b[0;32mraise\u001b[0m \u001b[0mexceptions\u001b[0m\u001b[0;34m.\u001b[0m\u001b[0mTimeoutError\u001b[0m\u001b[0;34m(\u001b[0m\u001b[0;34m)\u001b[0m\u001b[0;34m\u001b[0m\u001b[0;34m\u001b[0m\u001b[0m\n\u001b[0m\u001b[1;32m    502\u001b[0m     \u001b[0;32mfinally\u001b[0m\u001b[0;34m:\u001b[0m\u001b[0;34m\u001b[0m\u001b[0;34m\u001b[0m\u001b[0m\n\u001b[1;32m    503\u001b[0m         \u001b[0mtimeout_handle\u001b[0m\u001b[0;34m.\u001b[0m\u001b[0mcancel\u001b[0m\u001b[0;34m(\u001b[0m\u001b[0;34m)\u001b[0m\u001b[0;34m\u001b[0m\u001b[0;34m\u001b[0m\u001b[0m\n",
      "\u001b[0;31mTimeoutError\u001b[0m: "
     ]
    }
   ],
   "source": [
    "async def espera(T):\n",
    "    await asyncio.sleep(T)\n",
    "    print(\"fin de la espera\")\n",
    "\n",
    "await asyncio.wait_for(espera(10), timeout=5)"
   ]
  },
  {
   "cell_type": "markdown",
   "id": "264dcce3",
   "metadata": {
    "slideshow": {
     "slide_type": "slide"
    }
   },
   "source": [
    "## 2.- Decorando el mundo"
   ]
  },
  {
   "cell_type": "code",
   "execution_count": 9,
   "id": "19739641",
   "metadata": {
    "slideshow": {
     "slide_type": "fragment"
    }
   },
   "outputs": [],
   "source": [
    "import time\n",
    "\n",
    "def dbuger(fun):\n",
    "    \n",
    "    def dbug_fun(*args):\n",
    "        print(f\"{fun.__name__}() se va a ejecutar\")\n",
    "        print(f\"argumentos dados: {args}\")\n",
    "        \n",
    "        start_time = time.time()\n",
    "        retorno = fun(*args)\n",
    "        tiempo = time.time() - start_time\n",
    "\n",
    "        if retorno is not None:\n",
    "            print(f\"valor retornado: {retorno}\")\n",
    "        \n",
    "        print(f\"tiempo de ejecucion: {tiempo} segs\")\n",
    "        return retorno\n",
    "        \n",
    "    return dbug_fun"
   ]
  },
  {
   "cell_type": "code",
   "execution_count": 12,
   "id": "b1c2238f",
   "metadata": {
    "slideshow": {
     "slide_type": "slide"
    }
   },
   "outputs": [],
   "source": [
    "@dbuger\n",
    "def suma(*args):\n",
    "    total = 0\n",
    "    for i in args:\n",
    "        total += int(i)\n",
    "    return total"
   ]
  },
  {
   "cell_type": "code",
   "execution_count": 16,
   "id": "3224e7bc",
   "metadata": {
    "slideshow": {
     "slide_type": "fragment"
    }
   },
   "outputs": [
    {
     "name": "stdout",
     "output_type": "stream",
     "text": [
      "suma() se va a ejecutar\n",
      "argumentos dados: (10, 1, 1000, 111, 22)\n",
      "valor retornado: 1144\n",
      "tiempo de ejecucion: 3.337860107421875e-06 segs\n"
     ]
    },
    {
     "data": {
      "text/plain": [
       "1144"
      ]
     },
     "execution_count": 16,
     "metadata": {},
     "output_type": "execute_result"
    }
   ],
   "source": [
    "suma(10, 1, 1000, 111, 22)"
   ]
  },
  {
   "cell_type": "markdown",
   "id": "920dec00",
   "metadata": {
    "slideshow": {
     "slide_type": "slide"
    }
   },
   "source": [
    "## 3.- Y si hacemos un Botñeco"
   ]
  },
  {
   "cell_type": "code",
   "execution_count": null,
   "id": "5299ea46",
   "metadata": {
    "slideshow": {
     "slide_type": "fragment"
    }
   },
   "outputs": [],
   "source": [
    "# suma()\n",
    "\n",
    "@bot.command(name='suma', help='Suma los numeros que le des')\n",
    "async def suma(ctx, *args):\n",
    "    sum = 0\n",
    "    for i in args:\n",
    "        sum += int(i)\n",
    "    await ctx.send(str(sum))"
   ]
  },
  {
   "cell_type": "code",
   "execution_count": null,
   "id": "eac5129d",
   "metadata": {
    "slideshow": {
     "slide_type": "fragment"
    }
   },
   "outputs": [],
   "source": [
    "# gif()\n",
    "\n",
    "@bot.command(name='gif', help='Manda un gif aleatorio')\n",
    "async def gif(ctx, *args):\n",
    "    id = random.randint(0, 3)\n",
    "    await ctx.send(file=discord.File('gif_{id}.gif'))"
   ]
  },
  {
   "cell_type": "code",
   "execution_count": null,
   "id": "73c9a17a",
   "metadata": {
    "slideshow": {
     "slide_type": "fragment"
    }
   },
   "outputs": [],
   "source": [
    "# cuenta_regresiva()\n",
    "\n",
    "@bot.command(name='cuenta_regresiva', help='Hace una cuenta regresa')\n",
    "async def cuenta_regresiva(ctx, N):\n",
    "    for i in range(int(N)):\n",
    "        await ctx.send(str(N - i))\n",
    "        await asyncio.sleep(1)\n",
    "    await ctx.send(\"FIN!\")"
   ]
  },
  {
   "cell_type": "code",
   "execution_count": null,
   "id": "fc9633a1",
   "metadata": {
    "slideshow": {
     "slide_type": "fragment"
    }
   },
   "outputs": [],
   "source": [
    "# search_wiki()\n",
    "\n",
    "@bot.command(name='search_wiki', help='Suma los numeros que le des')\n",
    "async def search_wiki(ctx, search):\n",
    "    await ctx.send(wikipedia.summary(search, sentences = 10))"
   ]
  }
 ],
 "metadata": {
  "celltoolbar": "Slideshow",
  "kernelspec": {
   "display_name": "Python 3 (ipykernel)",
   "language": "python",
   "name": "python3"
  },
  "language_info": {
   "codemirror_mode": {
    "name": "ipython",
    "version": 3
   },
   "file_extension": ".py",
   "mimetype": "text/x-python",
   "name": "python",
   "nbconvert_exporter": "python",
   "pygments_lexer": "ipython3",
   "version": "3.8.10"
  }
 },
 "nbformat": 4,
 "nbformat_minor": 5
}
