{
 "cells": [
  {
   "cell_type": "markdown",
   "id": "51826eab",
   "metadata": {},
   "source": [
    "# Solución ejercicios clase 10\n"
   ]
  },
  {
   "cell_type": "markdown",
   "id": "bdce5d48",
   "metadata": {},
   "source": [
    "<div>\n",
    "<img src=\"images/solution.jpg\" width=\"600\" align=\"center\"/>\n",
    "</div>"
   ]
  },
  {
   "cell_type": "markdown",
   "id": "29d04fac",
   "metadata": {},
   "source": [
    "## 1. Trabajando con asyncio"
   ]
  },
  {
   "cell_type": "code",
   "execution_count": 2,
   "id": "2d915558",
   "metadata": {},
   "outputs": [],
   "source": [
    "import asyncio"
   ]
  },
  {
   "cell_type": "code",
   "execution_count": 5,
   "id": "92c2a03c",
   "metadata": {},
   "outputs": [
    {
     "name": "stdout",
     "output_type": "stream",
     "text": [
      "Ingrese T: 2\n",
      "Ingrese P: 2\n",
      "Ingrese M: 2\n",
      "Estoy estudiando\n",
      "...\n",
      "Estoy estudiando\n",
      "...\n",
      "---Sesion terminada---\n"
     ]
    }
   ],
   "source": [
    "async def time_pass(X):\n",
    "    for i in range(X):\n",
    "        print(\"...\")\n",
    "        await asyncio.sleep(1)\n",
    "\n",
    "async def ver_memes(P):\n",
    "    print(\"viendo memes\")\n",
    "    await time_pass(P)\n",
    "    print(\"de vuelta al estudio\")\n",
    "\n",
    "async def estudio():\n",
    "    print(\"Estoy estudiando\")\n",
    "    await time_pass(1)\n",
    "\n",
    "async def sesion(P, M):\n",
    "    while True:\n",
    "        for i in range(M):\n",
    "            await estudio()\n",
    "        await ver_memes(P)\n",
    "\n",
    "T = int(input(\"Ingrese T: \"))\n",
    "P = int(input(\"Ingrese P: \"))\n",
    "M = int(input(\"Ingrese M: \"))\n",
    "\n",
    "try:\n",
    "    await asyncio.wait_for(sesion(P, M), timeout=T)\n",
    "except asyncio.TimeoutError:\n",
    "    print(\"---Sesion terminada---\")"
   ]
  },
  {
   "cell_type": "markdown",
   "id": "8faaaaaa",
   "metadata": {},
   "source": [
    "## 2.- Decorando el mundo"
   ]
  },
  {
   "cell_type": "code",
   "execution_count": 44,
   "id": "3e7b2215",
   "metadata": {},
   "outputs": [],
   "source": [
    "import time\n",
    "\n",
    "def dbuger(fun):\n",
    "    \n",
    "    def dbug_fun(*args):\n",
    "        print(f\"{fun.__name__}() se va a ejecutar\")\n",
    "        print(f\"argumentos dados: {args}\")\n",
    "        \n",
    "        start_time = time.time()\n",
    "        retorno = fun(*args)\n",
    "        tiempo = time.time() - start_time\n",
    "\n",
    "        if retorno is not None:\n",
    "            print(f\"valor retornado: {retorno}\")\n",
    "        \n",
    "        print(f\"tiempo de ejecucion: {tiempo} segs\")\n",
    "        return retorno\n",
    "        \n",
    "    return dbug_fun"
   ]
  },
  {
   "cell_type": "code",
   "execution_count": 45,
   "id": "c32167b9",
   "metadata": {},
   "outputs": [],
   "source": [
    "@dbuger\n",
    "def suma(a, b):\n",
    "    return a + b"
   ]
  },
  {
   "cell_type": "code",
   "execution_count": 46,
   "id": "6ff65c13",
   "metadata": {},
   "outputs": [
    {
     "name": "stdout",
     "output_type": "stream",
     "text": [
      "suma() se va a ejecutar\n",
      "argumentos dados: (10, 10)\n",
      "valor retornado: 20\n",
      "tiempo de ejecucion: 9.5367431640625e-07 segs\n"
     ]
    },
    {
     "data": {
      "text/plain": [
       "20"
      ]
     },
     "execution_count": 46,
     "metadata": {},
     "output_type": "execute_result"
    }
   ],
   "source": [
    "suma(10, 10)"
   ]
  },
  {
   "cell_type": "markdown",
   "id": "5a87f927",
   "metadata": {},
   "source": [
    "## 3.- Y si hacemos un Botñeco"
   ]
  },
  {
   "cell_type": "code",
   "execution_count": null,
   "id": "40dd58be",
   "metadata": {},
   "outputs": [],
   "source": [
    "# suma()\n",
    "\n",
    "@bot.command(name='suma', help='Suma los numeros que le des')\n",
    "async def suma(ctx, *args):\n",
    "    sum = 0\n",
    "    for i in args:\n",
    "        sum += int(i)\n",
    "    await ctx.send(str(sum))"
   ]
  },
  {
   "cell_type": "code",
   "execution_count": null,
   "id": "fd13ee32",
   "metadata": {},
   "outputs": [],
   "source": [
    "# gif()\n",
    "\n",
    "@bot.command(name='gif', help='Manda un gif aleatorio')\n",
    "async def gif(ctx, *args):\n",
    "    id = random.randint(0, 3)\n",
    "    await ctx.send(file=discord.File('gif_{id}.gif'))"
   ]
  },
  {
   "cell_type": "code",
   "execution_count": null,
   "id": "ffe45994",
   "metadata": {},
   "outputs": [],
   "source": [
    "# cuenta_regresiva()\n",
    "\n",
    "@bot.command(name='cuenta_regresiva', help='Hace una cuenta regresa')\n",
    "async def cuenta_regresiva(ctx, N):\n",
    "    for i in range(int(N)):\n",
    "        await ctx.send(str(N - i))\n",
    "        await asyncio.sleep(1)\n",
    "    await ctx.send(\"FIN!\")"
   ]
  },
  {
   "cell_type": "code",
   "execution_count": null,
   "id": "d126e9ff",
   "metadata": {},
   "outputs": [],
   "source": [
    "# search_wiki()\n",
    "\n",
    "@bot.command(name='search_wiki', help='Suma los numeros que le des')\n",
    "async def search_wiki(ctx, search):\n",
    "    await ctx.send(wikipedia.summary(search, sentences = 10))"
   ]
  }
 ],
 "metadata": {
  "kernelspec": {
   "display_name": "Python 3 (ipykernel)",
   "language": "python",
   "name": "python3"
  },
  "language_info": {
   "codemirror_mode": {
    "name": "ipython",
    "version": 3
   },
   "file_extension": ".py",
   "mimetype": "text/x-python",
   "name": "python",
   "nbconvert_exporter": "python",
   "pygments_lexer": "ipython3",
   "version": "3.8.10"
  }
 },
 "nbformat": 4,
 "nbformat_minor": 5
}
