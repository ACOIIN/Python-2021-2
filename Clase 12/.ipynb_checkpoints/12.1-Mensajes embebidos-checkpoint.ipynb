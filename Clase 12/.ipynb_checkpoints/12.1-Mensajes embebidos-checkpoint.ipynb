{
 "cells": [
  {
   "cell_type": "markdown",
   "id": "e589d0d5",
   "metadata": {
    "slideshow": {
     "slide_type": "slide"
    }
   },
   "source": [
    "# Mensajes embebidos\n",
    "En Discord los mensajes embebidos son mensajes con una mayor cantidad de opciones que un simple mensaje normal. Puede mostrar un título, cuerpo, autor, etc. Y además le puedes agregar más campos."
   ]
  },
  {
   "cell_type": "markdown",
   "id": "41478a0f",
   "metadata": {
    "slideshow": {
     "slide_type": "fragment"
    }
   },
   "source": [
    "<div>\n",
    "<img src=\"Imagenes/embed.jpeg\" width=\"600\" align=\"center\"/>\n",
    "</div>"
   ]
  },
  {
   "cell_type": "markdown",
   "id": "6a9e4ca7",
   "metadata": {
    "slideshow": {
     "slide_type": "slide"
    }
   },
   "source": [
    "## 1. Cómo crear uno"
   ]
  },
  {
   "cell_type": "markdown",
   "id": "9ec570d2",
   "metadata": {
    "slideshow": {
     "slide_type": "fragment"
    }
   },
   "source": [
    "Para crear un mensaje de tipo embed debemos importar la clase `Embed` de `discord`. Y lo creamos como sigue:"
   ]
  },
  {
   "cell_type": "code",
   "execution_count": null,
   "id": "c8c2d081",
   "metadata": {
    "slideshow": {
     "slide_type": "fragment"
    }
   },
   "outputs": [],
   "source": [
    "from discord import embed\n",
    "\n",
    "msg_embed = Embed(title=\"Titulo\", description=\"Descripcion\", color=0x00ff00)"
   ]
  },
  {
   "cell_type": "markdown",
   "id": "b59b63f7",
   "metadata": {
    "slideshow": {
     "slide_type": "fragment"
    }
   },
   "source": [
    "- tittle: título del mensajes\n",
    "- descriotion: descripción del mensaje\n",
    "- color: el color que tendrá el mensaje en la parte lateral izuiquerda"
   ]
  },
  {
   "cell_type": "markdown",
   "id": "814f71d7",
   "metadata": {
    "slideshow": {
     "slide_type": "fragment"
    }
   },
   "source": [
    "Hay muchos más atributos que puede tener un mensaje embebido, estos los podemos encontrar como siempre en la documentación. [discord.Embed](https://discordpy.readthedocs.io/en/stable/api.html#embed)"
   ]
  },
  {
   "cell_type": "markdown",
   "id": "cb7f22b0",
   "metadata": {
    "slideshow": {
     "slide_type": "slide"
    }
   },
   "source": [
    "## 2. Ejemplos\n",
    "Pasaremos a hacer muchos embeds para demostrar lo útil que son:"
   ]
  },
  {
   "cell_type": "markdown",
   "id": "41e762be",
   "metadata": {
    "slideshow": {
     "slide_type": "slide"
    }
   },
   "source": [
    "### 2.1 Mensaje de bienvenida\n",
    "Hacer un mensaje embebido para cuando alguien entre al servidor."
   ]
  },
  {
   "cell_type": "code",
   "execution_count": null,
   "id": "a93c8f11",
   "metadata": {
    "slideshow": {
     "slide_type": "fragment"
    }
   },
   "outputs": [],
   "source": [
    "@bot.event\n",
    "async def on_member_join(member):\n",
    "    channel = member.guild.get_channel(id del canal donde enviaran el saludo)\n",
    "    msg = Embed(\n",
    "        title=f'Welcome {member.name}',\n",
    "        color=0x00ff00\n",
    "    )\n",
    "    msg.set_image(url='url de la imagen que quieran')\n",
    "    msg.set_thumbnail(url=member.avatar_url)\n",
    "    msg.add_field(name=f'Al servidor {member.guild.name}', value='recuerda leer las reglas')\n",
    "    await channel.send(embed=msg)"
   ]
  },
  {
   "cell_type": "markdown",
   "id": "1d9994ed",
   "metadata": {
    "slideshow": {
     "slide_type": "fragment"
    }
   },
   "source": [
    "Importante, para que el bot funcione es necesario que le añadas los permisos en discord developer. Y declarar el bot de la siguiente manera:"
   ]
  },
  {
   "cell_type": "code",
   "execution_count": null,
   "id": "3fd9e356",
   "metadata": {
    "slideshow": {
     "slide_type": "fragment"
    }
   },
   "outputs": [],
   "source": [
    "intents = Intents().all()\n",
    "bot = Bot(command_prefix='!', intents=intents)"
   ]
  },
  {
   "attachments": {
    "image.png": {
     "image/png": "[encoded data removed]"
    }
   },
   "cell_type": "markdown",
   "id": "de43ead4",
   "metadata": {
    "slideshow": {
     "slide_type": "fragment"
    }
   },
   "source": [
    "![image.png](attachment:image.png)"
   ]
  },
  {
   "cell_type": "markdown",
   "id": "2a8559ea",
   "metadata": {
    "slideshow": {
     "slide_type": "slide"
    }
   },
   "source": [
    "### 2.2 Datos del servidor\n",
    "Hacer comando que envie un mensaje embebido con los datos del servidor."
   ]
  },
  {
   "cell_type": "code",
   "execution_count": null,
   "id": "88f7e01d",
   "metadata": {
    "slideshow": {
     "slide_type": "fragment"
    }
   },
   "outputs": [],
   "source": [
    "@bot.command()\n",
    "async def info(ctx):\n",
    "    guild = ctx.guild\n",
    "    msg = Embed(\n",
    "        title=f'Datos del servidor {guild.name}',\n",
    "        color=0x00ff00\n",
    "    )\n",
    "    \n",
    "    msg.set_thumbnail(url=guild.icon_url)\n",
    "\n",
    "    msg.set_author(\n",
    "      name=f'Creado por {guild.owner.name}',\n",
    "      icon_url=f'{guild.owner.avatar_url}'\n",
    "    )\n",
    "\n",
    "    msg.add_field(\n",
    "      name='Cantidad de miembros', \n",
    "      value=f'{guild.member_count}'\n",
    "    )\n",
    "\n",
    "    if len(guild.roles) != 0:\n",
    "      msg.add_field(\n",
    "        name='Roles', \n",
    "        value=', '.join([role.name for role in guild.roles])\n",
    "      )\n",
    "\n",
    "    await ctx.send(embed=msg)"
   ]
  },
  {
   "cell_type": "markdown",
   "id": "98faafbf",
   "metadata": {
    "slideshow": {
     "slide_type": "fragment"
    }
   },
   "source": [
    "Atención, para este comando también es necesario para usar `guild.member_count` el mismo permiso que en el anterior ejemplo."
   ]
  },
  {
   "cell_type": "markdown",
   "id": "beb1abb9",
   "metadata": {
    "slideshow": {
     "slide_type": "slide"
    }
   },
   "source": [
    "Ambos ejemplos están en [replit](https://replit.com/@Wh4rp/bot-clase-12)."
   ]
  }
 ],
 "metadata": {
  "celltoolbar": "Slideshow",
  "kernelspec": {
   "display_name": "Python 3 (ipykernel)",
   "language": "python",
   "name": "python3"
  },
  "language_info": {
   "codemirror_mode": {
    "name": "ipython",
    "version": 3
   },
   "file_extension": ".py",
   "mimetype": "text/x-python",
   "name": "python",
   "nbconvert_exporter": "python",
   "pygments_lexer": "ipython3",
   "version": "3.8.10"
  }
 },
 "nbformat": 4,
 "nbformat_minor": 5
}
