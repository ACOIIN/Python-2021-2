{
 "cells": [
  {
   "cell_type": "markdown",
   "id": "68d7c9f2",
   "metadata": {
    "slideshow": {
     "slide_type": "slide"
    }
   },
   "source": [
    "# Clase final: Hosting del Bot\n",
    "\n",
    "<div>\n",
    "<img src=\"Imagenes/hosting-image.jpg\" width=\"600\" align=\"center\"/>\n",
    "</div>"
   ]
  },
  {
   "cell_type": "markdown",
   "id": "fc996f99",
   "metadata": {
    "slideshow": {
     "slide_type": "slide"
    }
   },
   "source": [
    "## 1.- El problema\n",
    "Actualmente necesitamos de prender el bot de Discord ya sea localmente o en replit para que este corra. Pero estas formas de activar el bot tienen el inconveniente de que en algún momento van a parar. Ya sea cuando quieras apagar el pc o que pase cierto tiempo de inactividad (caso replit).\n"
   ]
  },
  {
   "cell_type": "markdown",
   "id": "780c5d28",
   "metadata": {
    "slideshow": {
     "slide_type": "fragment"
    }
   },
   "source": [
    "<div>\n",
    "<img src=\"Imagenes/shut-down.jpg\" width=\"600\" align=\"center\"/>\n",
    "</div>"
   ]
  },
  {
   "cell_type": "markdown",
   "id": "7ba7afd4",
   "metadata": {
    "slideshow": {
     "slide_type": "fragment"
    }
   },
   "source": [
    "## 2.- Replit\n",
    "Es un servicio de IDE online que permite compartir código y que demás personas ejecuten este.\n",
    "\n",
    "En replit las aplicaciones que creemos y pongamos a correr se mantienen prendidas hasta que pase cierto tiempo sin uso. Después de este tiempo el programa finaliza.\n",
    "<div>\n",
    "<img src=\"Imagenes/replit.jpg\" width=\"600\" align=\"center\"/>\n",
    "</div>"
   ]
  },
  {
   "cell_type": "markdown",
   "id": "18682f09",
   "metadata": {
    "slideshow": {
     "slide_type": "fragment"
    }
   },
   "source": [
    "Entonces si de alguna manera hacemos que nuestro programa siga realizando algúna acción, podríamos hacer que no se apague nunca."
   ]
  },
  {
   "cell_type": "markdown",
   "id": "e6182693",
   "metadata": {
    "slideshow": {
     "slide_type": "slide"
    }
   },
   "source": [
    "## 3.- Solución\n",
    "La solución que se va a presentar no necesita que pagues algún servicio de host en la nube."
   ]
  },
  {
   "cell_type": "markdown",
   "id": "29c7934c",
   "metadata": {
    "slideshow": {
     "slide_type": "fragment"
    }
   },
   "source": [
    "Vamos a crear una página web básica a la cual vamos a estar monitoreando cada 5 minutos gracias a [uptime robot](https://uptimerobot.com/). Esto va a hacer que el programa que reproduce el bot nunca pase del tiempo límite de inactividad y por ende, nunca se apague."
   ]
  },
  {
   "cell_type": "markdown",
   "id": "c25def16",
   "metadata": {
    "slideshow": {
     "slide_type": "fragment"
    }
   },
   "source": [
    "<div>\n",
    "<img src=\"Imagenes/monitoring.jpeg\" width=\"600\" align=\"center\"/>\n",
    "</div>"
   ]
  },
  {
   "cell_type": "markdown",
   "id": "07dc1404",
   "metadata": {
    "slideshow": {
     "slide_type": "slide"
    }
   },
   "source": [
    "### 3.1- Página básica\n",
    "Para crear la página básica se utilizará la librería [flask](https://flask.palletsprojects.com/en/2.0.x/). El siguiente código es una página web simple."
   ]
  },
  {
   "cell_type": "code",
   "execution_count": null,
   "id": "26c9c62a",
   "metadata": {
    "slideshow": {
     "slide_type": "fragment"
    }
   },
   "outputs": [],
   "source": [
    "# keep_alive.py\n",
    "from flask import Flask\n",
    "from threading import Thread\n",
    "\n",
    "app = Flask('')\n",
    "\n",
    "@app.route('/')\n",
    "def home():\n",
    "    return \"Bot prendido!\"\n",
    "\n",
    "def run():\n",
    "  app.run(host='0.0.0.0',port=8080)\n",
    "\n",
    "def keep_alive():\n",
    "    t = Thread(target=run)\n",
    "    t.start()"
   ]
  },
  {
   "cell_type": "markdown",
   "id": "42f90b73",
   "metadata": {
    "slideshow": {
     "slide_type": "subslide"
    }
   },
   "source": [
    "Entonces, en el archivo main.py importan la función `keep_alive()` y la llaman justo antes de prender el bot."
   ]
  },
  {
   "cell_type": "code",
   "execution_count": null,
   "id": "8784c5d9",
   "metadata": {
    "slideshow": {
     "slide_type": "fragment"
    }
   },
   "outputs": [],
   "source": [
    "# main.py\n",
    "from keep_alive import keep_alive\n",
    "\n",
    "'''\n",
    "codigo entre medio\n",
    "'''\n",
    "\n",
    "keep_alive()\n",
    "bot.run('TOKEN')"
   ]
  },
  {
   "cell_type": "markdown",
   "id": "1279e4ba",
   "metadata": {
    "slideshow": {
     "slide_type": "fragment"
    }
   },
   "source": [
    "Debería quedar algo así cuando corran el bot en replit.\n",
    "<div>\n",
    "<img src=\"Imagenes/captura-web.png\" width=\"600\" align=\"center\"/>\n",
    "</div>"
   ]
  },
  {
   "cell_type": "markdown",
   "id": "4ab914ec",
   "metadata": {
    "slideshow": {
     "slide_type": "slide"
    }
   },
   "source": [
    "### 3.2- Monitoreo de la página\n",
    "Ahora utilizaremos el servicio de [uptimerobot](https://uptimerobot.com/) para monitorear la página recién creada."
   ]
  },
  {
   "cell_type": "markdown",
   "id": "01aa5059",
   "metadata": {
    "slideshow": {
     "slide_type": "subslide"
    }
   },
   "source": [
    "Primero entran a la página y se crean una cuenta o se logean\n",
    "<div>\n",
    "<img src=\"Imagenes/tuto-1.png\" width=\"600\" align=\"center\"/>\n",
    "</div>"
   ]
  },
  {
   "cell_type": "markdown",
   "id": "1937f94c",
   "metadata": {
    "slideshow": {
     "slide_type": "subslide"
    }
   },
   "source": [
    "Después de logeados, van a donde dice \"add monitoring\"\n",
    "<div>\n",
    "<img src=\"Imagenes/tuto-2.png\" width=\"600\" align=\"center\"/>\n",
    "</div>"
   ]
  },
  {
   "cell_type": "markdown",
   "id": "5cd131a2",
   "metadata": {
    "slideshow": {
     "slide_type": "subslide"
    }
   },
   "source": [
    "Les abrirá una ventana en la cual vamos a especificar qué queremos que monitoreé. Apretan en el menú desplegable que dice \"monitor type\" y seleccionan \"HTTP(s)\"\n",
    "<div>\n",
    "<img src=\"Imagenes/tuto-3.png\" width=\"600\" align=\"center\"/>\n",
    "</div>"
   ]
  },
  {
   "cell_type": "markdown",
   "id": "ffb8f2c3",
   "metadata": {
    "slideshow": {
     "slide_type": "subslide"
    }
   },
   "source": [
    "Les desplegará un formulario con los datos de la página. Acá rellenan con un alias y con el link de la página respectivamente. Y en \"monitoring interval\", lo dejan en 5 minutos. \n",
    "<div>\n",
    "<img src=\"Imagenes/tuto-4.png\" width=\"600\" align=\"center\"/>\n",
    "</div>"
   ]
  },
  {
   "cell_type": "markdown",
   "id": "80d14b86",
   "metadata": {
    "slideshow": {
     "slide_type": "subslide"
    }
   },
   "source": [
    "Finalmente seleccionan en la casilla de más abajo y apretan en el botón de \"create monitoring\"\n",
    "<div>\n",
    "<img src=\"Imagenes/tuto-5.png\" width=\"600\" align=\"center\"/>\n",
    "</div>"
   ]
  },
  {
   "cell_type": "markdown",
   "id": "8e367326",
   "metadata": {
    "slideshow": {
     "slide_type": "subslide"
    }
   },
   "source": [
    "Y así ya tienen la aplicación de monitoreo lista.\n",
    "<div>\n",
    "<img src=\"Imagenes/tuto-6.png\" width=\"600\" align=\"center\"/>\n",
    "</div>"
   ]
  }
 ],
 "metadata": {
  "celltoolbar": "Slideshow",
  "kernelspec": {
   "display_name": "Python 3 (ipykernel)",
   "language": "python",
   "name": "python3"
  },
  "language_info": {
   "codemirror_mode": {
    "name": "ipython",
    "version": 3
   },
   "file_extension": ".py",
   "mimetype": "text/x-python",
   "name": "python",
   "nbconvert_exporter": "python",
   "pygments_lexer": "ipython3",
   "version": "3.8.10"
  }
 },
 "nbformat": 4,
 "nbformat_minor": 5
}
