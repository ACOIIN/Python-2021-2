{
 "cells": [
  {
   "cell_type": "markdown",
   "id": "54c267cc",
   "metadata": {
    "slideshow": {
     "slide_type": "slide"
    }
   },
   "source": [
    "# Manejo de Flujo\n",
    "El manejo de flujo en programación se entiendo como el proceso por el cual el flujo del programa se reproduce. Python sigue un orden secuencial, es decir que lo primero que escribimos es lo primero que corre. Pero muchas veces vamos a querer que no todo se reproduzca en todo momento, en otras palabras que cierta acción sólo suceda dada una condición."
   ]
  },
  {
   "cell_type": "markdown",
   "id": "033536aa",
   "metadata": {
    "slideshow": {
     "slide_type": "slide"
    }
   },
   "source": [
    "## 1. If y else\n",
    "Con el fin de implementar la situación expuesta anteriormente se inventaron las funciones _if_ y _else_. \n",
    "\n",
    "**_if_** (que significa si en inglés) hará que determinado código se reproduzca si y solamente si la condición explicitada es verdad. Caso contrario el código que se reproduce es que está dentro del **_else_** que le continua. Notese que el else es opcional."
   ]
  },
  {
   "cell_type": "code",
   "execution_count": 6,
   "id": "3fe3aab5",
   "metadata": {
    "slideshow": {
     "slide_type": "fragment"
    }
   },
   "outputs": [
    {
     "name": "stdout",
     "output_type": "stream",
     "text": [
      "1 no es mayor que 2\n"
     ]
    }
   ],
   "source": [
    "if 1 > 2:\n",
    "    print(\"1 es mayor que 2\")\n",
    "else:\n",
    "    print(\"1 no es mayor que 2\")"
   ]
  },
  {
   "cell_type": "code",
   "execution_count": 13,
   "id": "01f7da66",
   "metadata": {
    "scrolled": true,
    "slideshow": {
     "slide_type": "fragment"
    }
   },
   "outputs": [
    {
     "name": "stdout",
     "output_type": "stream",
     "text": [
      "Ingrese un número: 10\n",
      "Ingrese otro número: 2\n",
      "10 es mayor que 2\n"
     ]
    }
   ],
   "source": [
    "a = int(input(\"Ingrese un número: \"))\n",
    "b = int(input(\"Ingrese otro número: \"))\n",
    "\n",
    "if (a > b):\n",
    "    print(f\"{a} es mayor que {b}\")\n",
    "else:\n",
    "    print(f\"{b} es mayor que {a}\")"
   ]
  },
  {
   "cell_type": "markdown",
   "id": "d7f0ab1e",
   "metadata": {
    "slideshow": {
     "slide_type": "slide"
    }
   },
   "source": [
    "## 1.1 Problema del if\n",
    "Veamos que pasa si quisiearmos hacer una lista de saludos dependiendo de quién esté en la puerta de tal manera que a Júan lo saludamos con \"wena wena pasa\", a Diego lo saludamos con \"si no traes leche no vengas\" y caso de que no sea ninguno de los dos le respondemos con \"Zzzzz\"."
   ]
  },
  {
   "cell_type": "code",
   "execution_count": 17,
   "id": "043c3967",
   "metadata": {
    "slideshow": {
     "slide_type": "subslide"
    }
   },
   "outputs": [
    {
     "name": "stdout",
     "output_type": "stream",
     "text": [
      "Indentifiquese Juan\n",
      "wena wena pasa\n",
      "Zzzzz\n"
     ]
    }
   ],
   "source": [
    "# Forma 1\n",
    "nombre = input(\"Indentifiquese \")\n",
    "if nombre == \"Juan\":\n",
    "    print(\"wena wena pasa\")\n",
    "if nombre == \"Diego\":\n",
    "    print(\"si no traes leche no vengas\")\n",
    "else:\n",
    "    print(\"Zzzzz\")"
   ]
  },
  {
   "cell_type": "code",
   "execution_count": 23,
   "id": "2ee804a6",
   "metadata": {
    "slideshow": {
     "slide_type": "subslide"
    }
   },
   "outputs": [
    {
     "name": "stdout",
     "output_type": "stream",
     "text": [
      "Indentifiquese Diego\n",
      "si no traes leche no vengas\n"
     ]
    }
   ],
   "source": [
    "# Forma 2\n",
    "nombre = input(\"Indentifiquese \")\n",
    "if nombre == \"Juan\":\n",
    "    print(\"wena wena pasa\")\n",
    "if nombre == \"Diego\":\n",
    "    print(\"si no traes leche no vengas\")\n",
    "if (not nombre == \"Juan\") and (not nombre == \"Diego\"):\n",
    "    print(\"Zzzzz\")"
   ]
  },
  {
   "cell_type": "code",
   "execution_count": null,
   "id": "7a7e1989",
   "metadata": {
    "slideshow": {
     "slide_type": "subslide"
    }
   },
   "outputs": [],
   "source": [
    "# Forma 3\n",
    "nombre = input(\"Indentifiquese \")\n",
    "if nombre == \"Juan\":\n",
    "    print(\"wena wena pasa\")\n",
    "else:\n",
    "    if nombre == \"Diego\":\n",
    "        print(\"si no traes leche no vengas\")\n",
    "    else:\n",
    "        print(\"Zzzz\")"
   ]
  },
  {
   "cell_type": "markdown",
   "id": "7ee4f6be",
   "metadata": {
    "slideshow": {
     "slide_type": "subslide"
    }
   },
   "source": [
    "### elif\n",
    "_elif_ es una combinación de hacer else e if contiguamente. Se usa cuando hay más de una opción en el flujo del programa y no se quiere sobreponer entre si las condiciones."
   ]
  },
  {
   "cell_type": "code",
   "execution_count": 27,
   "id": "8d35a20b",
   "metadata": {
    "slideshow": {
     "slide_type": "fragment"
    }
   },
   "outputs": [
    {
     "name": "stdout",
     "output_type": "stream",
     "text": [
      "Indentifiquese Matias\n",
      "xd\n"
     ]
    }
   ],
   "source": [
    "# Forma 4 con uso de elif\n",
    "nombre = input(\"Indentifiquese \")\n",
    "if nombre == \"Juan\":\n",
    "    print(\"wena wena pasa\")\n",
    "elif nombre == \"Diego\":\n",
    "    print(\"si no traes leche no vengas\")\n",
    "elif nombre == \"Matias\":\n",
    "    print(\"xd\")\n",
    "else:\n",
    "    print(\"Zzzzz\")"
   ]
  }
 ],
 "metadata": {
  "celltoolbar": "Slideshow",
  "kernelspec": {
   "display_name": "Python 3 (ipykernel)",
   "language": "python",
   "name": "python3"
  },
  "language_info": {
   "codemirror_mode": {
    "name": "ipython",
    "version": 3
   },
   "file_extension": ".py",
   "mimetype": "text/x-python",
   "name": "python",
   "nbconvert_exporter": "python",
   "pygments_lexer": "ipython3",
   "version": "3.8.10"
  }
 },
 "nbformat": 4,
 "nbformat_minor": 5
}
