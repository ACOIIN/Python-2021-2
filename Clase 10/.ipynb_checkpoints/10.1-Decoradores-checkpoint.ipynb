{
 "cells": [
  {
   "cell_type": "markdown",
   "id": "5e4c7bd9",
   "metadata": {
    "slideshow": {
     "slide_type": "slide"
    }
   },
   "source": [
    "# Decoradores\n",
    "Hemos visto que las funciones toman en python argumento de cualquier tipo de dato, pero se han preguntado si ¿una función podría tomar como argumento a otra función? y si ¿puede una función retornar otra función?\n",
    "\n",
    "La respuesta es que sí. Y a esta practica en python se le conoce como decoradores.\n"
   ]
  },
  {
   "cell_type": "markdown",
   "id": "616a119d",
   "metadata": {
    "slideshow": {
     "slide_type": "fragment"
    }
   },
   "source": [
    "<div>\n",
    "<img src=\"Imagenes/decorador-ejemplo.jpg\" width=\"600\" align=\"center\"/>\n",
    "</div>"
   ]
  },
  {
   "cell_type": "markdown",
   "id": "2e29e4e9",
   "metadata": {
    "slideshow": {
     "slide_type": "slide"
    }
   },
   "source": [
    "## 1. Caso de uso\n",
    "Imaginemos que queremos saber cuál es el tiempo de ejecusión de una función en particular. Usando el módulo `time` podemos pensar en una solución como la siguiente:"
   ]
  },
  {
   "cell_type": "code",
   "execution_count": 90,
   "id": "e005496b",
   "metadata": {
    "slideshow": {
     "slide_type": "fragment"
    }
   },
   "outputs": [],
   "source": [
    "# Función que entrega una lista con los factores primos de un número\n",
    "def factorizacion(N):\n",
    "    factores = []\n",
    "    i = 2\n",
    "    while i <= N:\n",
    "        while N % i == 0:\n",
    "            factores.append(i)\n",
    "            N //= i\n",
    "        i += 1\n",
    "    return factores"
   ]
  },
  {
   "cell_type": "code",
   "execution_count": 91,
   "id": "d2dcf25e",
   "metadata": {
    "slideshow": {
     "slide_type": "fragment"
    }
   },
   "outputs": [
    {
     "data": {
      "text/plain": [
       "[2, 3]"
      ]
     },
     "execution_count": 91,
     "metadata": {},
     "output_type": "execute_result"
    }
   ],
   "source": [
    "factorizacion(6)"
   ]
  },
  {
   "cell_type": "code",
   "execution_count": 92,
   "id": "dc8d1db1",
   "metadata": {
    "slideshow": {
     "slide_type": "fragment"
    }
   },
   "outputs": [
    {
     "name": "stdout",
     "output_type": "stream",
     "text": [
      "Tiempo de ejecución: 4.5299530029296875e-06 segundos \n"
     ]
    }
   ],
   "source": [
    "import time\n",
    "# Solución\n",
    "\n",
    "def time_factorizacion(N):\n",
    "    start_time = time.time()\n",
    "    factorizacion(N)\n",
    "    print(f\"Tiempo de ejecución: {(time.time() - start_time)} segundos \")\n",
    "\n",
    "time_factorizacion(10)"
   ]
  },
  {
   "cell_type": "markdown",
   "id": "e025d86a",
   "metadata": {
    "slideshow": {
     "slide_type": "subslide"
    }
   },
   "source": [
    "Pareciera ser que esta forma de medir el tiempo me puede servir para más funciones. La primera y tercera línea de la función `time_factorizacion()` es bastante estándar. Intentemos definir una función que crea funciones donde se imprima el tiempo de ejecución."
   ]
  },
  {
   "cell_type": "code",
   "execution_count": 93,
   "id": "be4b7d53",
   "metadata": {
    "slideshow": {
     "slide_type": "fragment"
    }
   },
   "outputs": [
    {
     "name": "stdout",
     "output_type": "stream",
     "text": [
      "Tiempo de ejecución: 4.291534423828125e-06 segundos \n"
     ]
    }
   ],
   "source": [
    "# Primer intento\n",
    "# Sirve pero no retorna alguna funcion\n",
    "# Hay que llamar a time_ejecucion cada queramos ver el tiempo\n",
    "\n",
    "def time_ejecucion(fun, N):\n",
    "    start_time = time.time()\n",
    "    fun(N)\n",
    "    print(f\"Tiempo de ejecución: {(time.time() - start_time)} segundos \")\n",
    "\n",
    "time_ejecucion(factorizacion, 10)"
   ]
  },
  {
   "cell_type": "code",
   "execution_count": 97,
   "id": "be1a7538",
   "metadata": {
    "slideshow": {
     "slide_type": "subslide"
    }
   },
   "outputs": [
    {
     "name": "stdout",
     "output_type": "stream",
     "text": [
      "Tiempo de ejecución: 3.5762786865234375e-06 segundos \n"
     ]
    },
    {
     "data": {
      "text/plain": [
       "[2, 5]"
      ]
     },
     "execution_count": 97,
     "metadata": {},
     "output_type": "execute_result"
    }
   ],
   "source": [
    "# Segundo intento\n",
    "# Ahora si retorna una funcion\n",
    "# Pero estoy limitado a funciones con argumento 1\n",
    "\n",
    "def time_ejecucion(fun):\n",
    "    def fun_return(N):\n",
    "        start_time = time.time()\n",
    "        retorno = fun(N)\n",
    "        print(f\"Tiempo de ejecución: {(time.time() - start_time)} segundos \")\n",
    "        return retorno\n",
    "    return fun_return\n",
    "\n",
    "time_factorizacion = time_ejecucion(factorizacion)\n",
    "time_factorizacion(10)"
   ]
  },
  {
   "cell_type": "code",
   "execution_count": 99,
   "id": "444ed187",
   "metadata": {
    "slideshow": {
     "slide_type": "subslide"
    }
   },
   "outputs": [
    {
     "name": "stdout",
     "output_type": "stream",
     "text": [
      "Tiempo de ejecución: 4.76837158203125e-06 segundos \n"
     ]
    },
    {
     "data": {
      "text/plain": [
       "[2, 5]"
      ]
     },
     "execution_count": 99,
     "metadata": {},
     "output_type": "execute_result"
    }
   ],
   "source": [
    "# Tercer intento\n",
    "# *args nos permite colocar la cantidad de argumentos\n",
    "# que queramos\n",
    "\n",
    "def time_ejecucion(fun):\n",
    "    def fun_return(*args):\n",
    "        start_time = time.time()\n",
    "        retorno = fun(*args)\n",
    "        print(f\"Tiempo de ejecución: {(time.time() - start_time)} segundos \")\n",
    "        return retorno\n",
    "    return fun_return\n",
    "\n",
    "time_factorizacion = time_ejecucion(factorizacion)\n",
    "time_factorizacion(10)"
   ]
  },
  {
   "cell_type": "markdown",
   "id": "728e5cfd",
   "metadata": {
    "slideshow": {
     "slide_type": "fragment"
    }
   },
   "source": [
    "Los dos últimos ejemplos ya son decoradores. Se pide una función como argumento y se retorna otra que ha sido \"decorada\"."
   ]
  },
  {
   "cell_type": "markdown",
   "id": "dfbb5310",
   "metadata": {
    "slideshow": {
     "slide_type": "slide"
    }
   },
   "source": [
    "## 2. Sintaxis\n",
    "Python trae consigo una forma más cómoda de implementar un decorador. Se presenta a continuación."
   ]
  },
  {
   "cell_type": "code",
   "execution_count": 101,
   "id": "ea1c5f3d",
   "metadata": {
    "slideshow": {
     "slide_type": "fragment"
    }
   },
   "outputs": [
    {
     "name": "stdout",
     "output_type": "stream",
     "text": [
      "Se llama a la funcion\n",
      "Entra en funcion suma\n",
      "Fin de la funcion\n"
     ]
    },
    {
     "data": {
      "text/plain": [
       "13"
      ]
     },
     "execution_count": 101,
     "metadata": {},
     "output_type": "execute_result"
    }
   ],
   "source": [
    "def decorador(funcion):                  # definimos decorador\n",
    "    def nueva_funcion(a, b):             # definimos nueva funcion con argumentos\n",
    "        print(\"Se llama a la funcion\")   \n",
    "        c = funcion(a, b)                # se llama a la funcion a decorar\n",
    "        print(\"Fin de la funcion\")\n",
    "        return c\n",
    "    return nueva_funcion\n",
    "\n",
    "@decorador                               # se define la funcion que va a ser decorada\n",
    "def suma(a, b):\n",
    "    print(\"Entra en funcion suma\")\n",
    "    return a + b\n",
    "\n",
    "suma(5, 8)                                # funcion ya decorada\n",
    "\n",
    "# Se va a llamar\n",
    "# Entra en funcion suma\n",
    "# Se ha llamado"
   ]
  }
 ],
 "metadata": {
  "celltoolbar": "Slideshow",
  "kernelspec": {
   "display_name": "Python 3 (ipykernel)",
   "language": "python",
   "name": "python3"
  },
  "language_info": {
   "codemirror_mode": {
    "name": "ipython",
    "version": 3
   },
   "file_extension": ".py",
   "mimetype": "text/x-python",
   "name": "python",
   "nbconvert_exporter": "python",
   "pygments_lexer": "ipython3",
   "version": "3.8.10"
  }
 },
 "nbformat": 4,
 "nbformat_minor": 5
}
