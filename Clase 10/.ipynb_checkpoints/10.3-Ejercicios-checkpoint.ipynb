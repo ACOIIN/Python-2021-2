{
 "cells": [
  {
   "cell_type": "markdown",
   "id": "ac7bc176",
   "metadata": {},
   "source": [
    "# Ejercicios"
   ]
  },
  {
   "cell_type": "markdown",
   "id": "06c7956e",
   "metadata": {},
   "source": [
    "## 1. Trabajando con asyncio\n",
    "Para recuperar el tiempo pérdido haciendo Bots de Discord decides ponerte a estudiar. Pero como es de costumbre quieres seguir al tanto de los nuevos memes que van saliendo por #memes del servidor de Computación IN. Pero como te sientes mal por ello decidiste hacer una simulación de tu tiempo estudiando y tu tiempo viendo memes.\n",
    "\n",
    "Cada segundo debes imprimir \"estoy estudiando\" a menos que te llegue una notificación de que apareció un nuevo meme (lo cual es cada M segundo) en cuyo caso debes imprimir \"viendo memes\" y despues de P segundos imprimes \"de vuelta al estudio\" y continuas imprimiendo \"estoy estudiando\" hasta que ciclo se repita.\n",
    "\n",
    "Además dispones de T tiempo total para dedicar a estudiar y ver memes.\n"
   ]
  },
  {
   "cell_type": "code",
   "execution_count": null,
   "id": "2fe073ec",
   "metadata": {},
   "outputs": [],
   "source": [
    "import asyncio\n",
    "\n",
    "# funcion que imprime \"...\" cada segundo, durante X segundos\n",
    "async def time_pass(X):\n",
    "    for i in range(X):\n",
    "        print(\"...\")\n",
    "        await asyncio.sleep(1)\n",
    "\n",
    "async def ver_memes(P):\n",
    "    # completar\n",
    "\n",
    "async def estudio():\n",
    "    # completar\n",
    "\n",
    "async def sesion(P, M):\n",
    "    while True:\n",
    "        # ingresa M estudio()\n",
    "        # ingresa 1 ver_memes()\n",
    "\n",
    "T = int(input(\"Ingrese T: \"))\n",
    "P = int(input(\"Ingrese P: \"))\n",
    "M = int(input(\"Ingrese M: \"))\n",
    "\n",
    "\n",
    "try:\n",
    "    await asyncio.wait_for()     # completa al await_for. Busca en Internet qué hace\n",
    "                                 # y por qué es útil\n",
    "except asyncio.TimeoutError:\n",
    "    print(\"---Sesion terminada---\")"
   ]
  },
  {
   "cell_type": "markdown",
   "id": "9f675099",
   "metadata": {},
   "source": [
    "Un flujo correcto es algo así\n",
    "```txt\n",
    "Ingrese T: 5\n",
    "Ingrese P: 2\n",
    "Ingrese M: 2\n",
    "Estoy estudiando\n",
    "...\n",
    "Estoy estudiando\n",
    "...\n",
    "viendo memes\n",
    "...\n",
    "...\n",
    "de vuelta al estudio\n",
    "Estoy estudiando\n",
    "...\n",
    "---Sesion terminada---\n",
    "```"
   ]
  },
  {
   "cell_type": "markdown",
   "id": "102e67cc",
   "metadata": {},
   "source": [
    "## 2.- Decorando el mundo\n",
    "Te das cuenta que gran parte de programar es debugear el programa que uno crea por lo que decides crear un decorador que te ayuda a dbugear. \n",
    "\n",
    "Compleja el decorador `dbuger` para que cumpla con las siguientes indicaciones:\n",
    "\n",
    "- Imprima \"{nombre_funcion} se va a ejecutar\" (hint: investiga acerca del método `__name__` para funciones)\n",
    "- Imprima \"argumentos dados\" seguido de una lista con cada uno de sus argumenos (hint: usa `*args`)\n",
    "- Imprima qué fue lo que retornó en caso de que haya retornado algo (hint: puedes comprobar esto con `valor_reornado is None`)\n",
    "- Imprima el tiempo de ejecución de la función dada al final (hint: revisa la slide 10.1)"
   ]
  },
  {
   "cell_type": "code",
   "execution_count": null,
   "id": "1c243bb8",
   "metadata": {},
   "outputs": [],
   "source": [
    "def dbuger(fun):\n",
    "    \n",
    "    def dbug_fun(fun):\n",
    "        # completar\n",
    "        \n",
    "    return dbug_fun\n"
   ]
  },
  {
   "cell_type": "markdown",
   "id": "227ba2bb",
   "metadata": {},
   "source": [
    "## 3.- Y si hacemos un Botñeco\n",
    "Como desafío te proponemos crear un bot con los siguientes comandos\n",
    "- `suma()`: suma la cantidad indefinida de números que le das. (hint: usa `*args`)\n",
    "- `gif()`: de una carpeta de gif, con al menos 4 el bot responda al mensaje con un gif aleatorio.\n",
    "- `cuenta_regresiva(N)`: responde con una cuenta regresiva desde el N hasta el 0 esperando 1 segundo por número. Al final haz que mande el link de Rickroll.\n",
    "- `search_wiki(search)`: busca una página de wikipedia y responde con el resumen de la primera búsqueda que encuentre. Ayudate de la librería de [wikipedia](https://pypi.org/project/wikipedia/) de python."
   ]
  }
 ],
 "metadata": {
  "kernelspec": {
   "display_name": "Python 3 (ipykernel)",
   "language": "python",
   "name": "python3"
  },
  "language_info": {
   "codemirror_mode": {
    "name": "ipython",
    "version": 3
   },
   "file_extension": ".py",
   "mimetype": "text/x-python",
   "name": "python",
   "nbconvert_exporter": "python",
   "pygments_lexer": "ipython3",
   "version": "3.8.10"
  }
 },
 "nbformat": 4,
 "nbformat_minor": 5
}
