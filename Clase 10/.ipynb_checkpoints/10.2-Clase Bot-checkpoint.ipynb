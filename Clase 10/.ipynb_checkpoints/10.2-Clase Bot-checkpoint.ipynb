{
 "cells": [
  {
   "cell_type": "markdown",
   "id": "a36cbdc5",
   "metadata": {
    "slideshow": {
     "slide_type": "slide"
    }
   },
   "source": [
    "# Clase discord.ext Bot Discord\n",
    "\n",
    "La clase `Bot` dentro de la librería de `Discord.py` es una subclase de la ya vista `Client`. Esta provee de funcionalidades propias de un bot de Discord. Como tener un comando prefijo e implementar comandos con funciones."
   ]
  },
  {
   "cell_type": "markdown",
   "id": "f3966516",
   "metadata": {
    "slideshow": {
     "slide_type": "fragment"
    }
   },
   "source": [
    "<div>\n",
    "<img src=\"Imagenes/discord-logo-bots-engranaje.jpg\" width=\"800\" align=\"center\"/>\n",
    "</div>"
   ]
  },
  {
   "cell_type": "markdown",
   "id": "a6de1b06",
   "metadata": {
    "slideshow": {
     "slide_type": "slide"
    }
   },
   "source": [
    "## 1. Creación\n",
    "Al igual como se creaba un objeto de clase cliente, `Bot` se crea llamando a `Bot()`. Se puede colocar `command_prefix = '-'` como argumento para definir cual es el prefijo del bot. Es necesario importar `from discord.ext.commands import Bot`.\n",
    "\n",
    "- [`@bot.event`](https://github.com/Pycord-Development/pycord/blob/master/discord/client.py#L917): decorador para sobre escribir eventos del propio cliente. Estos pueden ser `on_ready()` que se ejecuta cuando el Bot acaba de iniciarse, `on_message()` que se ejecuta cuando alguien envia un mensaje, etc.\n",
    "- `@bot.comand()`: decorador que nos permite definir comandos que se llamarán cuando se escriba el prefijo seguido del nombre del comando en Discord. Los argumentos del comando que definamos serán los que puede ocupar el usuario.\n",
    "- `ctx`: es el _contexto_ del comando. Trae consigo los datos del canal donde se mandó en mensaje que gatilló el comando, el usuario y varias cosas más. Usando `ctx.send(\"mensaje\")` el Bot envia un mensaje en el canal donde se llamó al comando."
   ]
  },
  {
   "cell_type": "code",
   "execution_count": null,
   "id": "5318e1d8",
   "metadata": {
    "slideshow": {
     "slide_type": "subslide"
    }
   },
   "outputs": [],
   "source": [
    "# import discord\n",
    "\n",
    "from discord.ext.commands import Bot\n",
    "\n",
    "bot = Bot(command_prefix='!')\n",
    "\n",
    "@bot.event\n",
    "async def on_ready():\n",
    "    print('Logueado como')\n",
    "    print(bot.user.name)\n",
    "    print(bot.user.id)\n",
    "    print('------')\n",
    "\n",
    "@bot.command(name='add', help='Suma dos numeros')\n",
    "async def add(ctx, left: int, right: int):\n",
    "    await ctx.send(left + right)\n",
    "\n",
    "bot.run('token')"
   ]
  },
  {
   "cell_type": "markdown",
   "id": "8cb74e19",
   "metadata": {
    "slideshow": {
     "slide_type": "fragment"
    }
   },
   "source": [
    "<div>\n",
    "<img src=\"Imagenes/captura-comando.png\" width=\"500\" align=\"center\"/>\n",
    "</div>"
   ]
  },
  {
   "cell_type": "markdown",
   "id": "f195459e",
   "metadata": {
    "slideshow": {
     "slide_type": "subslide"
    }
   },
   "source": [
    "La clase `Bot` trae consigo un comando que es `help` el cual es un vistazo rápido a qué hace cada una de nuestras fuciones."
   ]
  },
  {
   "cell_type": "markdown",
   "id": "7eac3e1e",
   "metadata": {
    "slideshow": {
     "slide_type": "fragment"
    }
   },
   "source": [
    "<div>\n",
    "<img src=\"Imagenes/captura-help.png\" width=\"800\" align=\"center\"/>\n",
    "</div>"
   ]
  },
  {
   "cell_type": "markdown",
   "id": "ad3ffb52",
   "metadata": {
    "slideshow": {
     "slide_type": "slide"
    }
   },
   "source": [
    "## 2. Ejemplos de bots\n",
    "Veremos un par de ejemplos de Bots rápidamente. Explicando qué hace cada comando."
   ]
  },
  {
   "cell_type": "markdown",
   "id": "9698f011",
   "metadata": {
    "slideshow": {
     "slide_type": "subslide"
    }
   },
   "source": [
    "### 2.1 Bot que contesta a mensajes que comienzan con \"hola\""
   ]
  },
  {
   "cell_type": "code",
   "execution_count": null,
   "id": "1656730a",
   "metadata": {
    "slideshow": {
     "slide_type": "fragment"
    }
   },
   "outputs": [],
   "source": [
    "import discord\n",
    "\n",
    "client = discord.Client()\n",
    "\n",
    "@client.event\n",
    "async def on_ready():\n",
    "    print('Logueado como')\n",
    "    print(client.user.name)\n",
    "    print(client.user.id)\n",
    "    print('------')\n",
    "\n",
    "@client.event\n",
    "async def on_message(message):\n",
    "    # no queremos que el bot se responda a si mismo\n",
    "    if message.author.id == client.user.id:\n",
    "        return\n",
    "    # si el contenido del mensaje comienza con 'hola' responde el bot\n",
    "    if message.content.startswith('hola'):\n",
    "        await message.reply('Hola!', mention_author=True)\n",
    "\n",
    "client.run('token')"
   ]
  },
  {
   "cell_type": "markdown",
   "id": "99ca3b92",
   "metadata": {
    "slideshow": {
     "slide_type": "subslide"
    }
   },
   "source": [
    "### 2.2 Bot que edita un mensaje despues de cierto tiempo"
   ]
  },
  {
   "cell_type": "code",
   "execution_count": null,
   "id": "e4655d43",
   "metadata": {
    "slideshow": {
     "slide_type": "fragment"
    }
   },
   "outputs": [],
   "source": [
    "import asyncio\n",
    "from discord.ext.commands import Bot\n",
    "\n",
    "bot = Bot(command_prefix='!')\n",
    "\n",
    "@bot.event\n",
    "async def on_ready():\n",
    "    print('Logueado como')\n",
    "    print(bot.user.name)\n",
    "    print(bot.user.id)\n",
    "    print('------')\n",
    "\n",
    "@bot.command(name='editime', help='Mensaje que se editara en...')\n",
    "async def editime(ctx, time : int):\n",
    "    msg = await ctx.send('0')\n",
    "    await asyncio.sleep(time)\n",
    "    await msg.edit(content=str(time))\n",
    "\n",
    "@bot.event\n",
    "async def on_message_edit(before, after):\n",
    "    msg = f'**{before.author}** editó su mensaje:\\n{before.content} -> {after.content}'\n",
    "    await before.channel.send(msg)\n",
    "\n",
    "client.run('token')"
   ]
  },
  {
   "cell_type": "markdown",
   "id": "ab14372f",
   "metadata": {
    "slideshow": {
     "slide_type": "subslide"
    }
   },
   "source": [
    "### 2.3 Bot que sobre escribe el Context"
   ]
  },
  {
   "cell_type": "code",
   "execution_count": null,
   "id": "8337cd2d",
   "metadata": {
    "slideshow": {
     "slide_type": "fragment"
    }
   },
   "outputs": [],
   "source": [
    "import random\n",
    "\n",
    "import discord\n",
    "from discord.ext import commands\n",
    "\n",
    "\n",
    "class MyContext(commands.Context):\n",
    "    async def tick(self, value):\n",
    "        # reacciona a un mensaje con un emoji\n",
    "        # dependiendo si acerto o no al numero\n",
    "        # random de 1 a 6\n",
    "        emoji = '\\N{WHITE HEAVY CHECK MARK}' if value else '\\N{CROSS MARK}'\n",
    "        try:\n",
    "            # esto reacciona con un emoji al mensaje del usuario\n",
    "            await self.message.add_reaction(emoji)\n",
    "        except discord.HTTPException:\n",
    "            # si algun error ocurre entre medio\n",
    "            # lo ignoraremos\n",
    "            pass\n",
    "\n",
    "\n",
    "class MyBot(commands.Bot):\n",
    "    async def get_context(self, message, *, cls=MyContext):\n",
    "        # sobre escribir este metodo hace que se ingrese\n",
    "        # el contexto que se definio mas arriba\n",
    "        return await super().get_context(message, cls=cls)\n",
    "\n",
    "\n",
    "bot = MyBot(command_prefix='!')\n",
    "\n",
    "@bot.event\n",
    "async def on_ready():\n",
    "    print('Logueado como')\n",
    "    print(bot.user.name)\n",
    "    print(bot.user.id)\n",
    "    print('------')\n",
    "\n",
    "@bot.command(name='guess', help='da un numero aleatorio de 1 a 6, y ve si aciertas')\n",
    "async def guess(ctx, number: int):\n",
    "    value = random.randint(1, 6)\n",
    "    await ctx.tick(number == value)\n",
    "\n",
    "bot.run('token')"
   ]
  }
 ],
 "metadata": {
  "celltoolbar": "Slideshow",
  "kernelspec": {
   "display_name": "Python 3 (ipykernel)",
   "language": "python",
   "name": "python3"
  },
  "language_info": {
   "codemirror_mode": {
    "name": "ipython",
    "version": 3
   },
   "file_extension": ".py",
   "mimetype": "text/x-python",
   "name": "python",
   "nbconvert_exporter": "python",
   "pygments_lexer": "ipython3",
   "version": "3.8.10"
  }
 },
 "nbformat": 4,
 "nbformat_minor": 5
}
