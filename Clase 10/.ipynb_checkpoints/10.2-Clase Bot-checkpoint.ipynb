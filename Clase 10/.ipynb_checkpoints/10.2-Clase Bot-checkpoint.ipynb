{
 "cells": [
  {
   "cell_type": "markdown",
   "id": "db488294",
   "metadata": {
    "slideshow": {
     "slide_type": "slide"
    }
   },
   "source": [
    "# Clase discord.ext Bot Discord\n",
    "\n",
    "La clase `Bot` dentro de la librería de `Discord.py` es una subclase de la ya vista `Client`. Esta provee de funcionalidades propias de un bot de Discord. Como tener un comando prefijo e implementar comandos con funciones."
   ]
  },
  {
   "cell_type": "markdown",
   "id": "d9850ad9",
   "metadata": {
    "slideshow": {
     "slide_type": "fragment"
    }
   },
   "source": [
    "<div>\n",
    "<img src=\"Imagenes/discord-logo-bots-engranaje.jpg\" width=\"800\" align=\"center\"/>\n",
    "</div>"
   ]
  },
  {
   "cell_type": "markdown",
   "id": "08af51f3",
   "metadata": {
    "slideshow": {
     "slide_type": "slide"
    }
   },
   "source": [
    "## 1. Creación\n",
    "Al igual como se creaba un objeto de clase cliente, `Bot` se crea llamando a `Bot()`. Se puede colocar `command_prefix = '-'` como argumento para definir cual es el prefijo del bot. Es necesario importar `from discord.ext.commands import Bot`.\n",
    "\n",
    "- `@bot.event`: decorador para sobre escribir eventos del propio cliente. Estos pueden ser `on_ready()` que se ejecuta cuando el Bot acaba de iniciarse, `on_message()` que se ejecuta cuando alguien envia un mensaje, etc.\n",
    "- `@bot.comand()`: decorador que nos permite definir comandos que se llamarán cuando se escriba el prefijo seguido del nombre del comando en Discord."
   ]
  },
  {
   "cell_type": "code",
   "execution_count": null,
   "id": "ea290f2c",
   "metadata": {
    "slideshow": {
     "slide_type": "subslide"
    }
   },
   "outputs": [],
   "source": [
    "import discord\n",
    "\n",
    "from discord.ext.commands import Bot\n",
    "\n",
    "bot = Bot(command_prefix='!')\n",
    "\n",
    "@bot.event\n",
    "async def on_ready():\n",
    "    print('Logueado como')\n",
    "    print(bot.user.name)\n",
    "    print(bot.user.id)\n",
    "    print('------')\n",
    "\n",
    "@bot.command(name='add', help='Suma dos numeros')\n",
    "async def add(ctx, left: int, right: int):\n",
    "    await ctx.send(left + right)\n",
    "\n",
    "bot.run('token')"
   ]
  },
  {
   "cell_type": "markdown",
   "id": "626c3a57",
   "metadata": {
    "slideshow": {
     "slide_type": "fragment"
    }
   },
   "source": [
    "<div>\n",
    "<img src=\"Imagenes/captura-comando.png\" width=\"500\" align=\"center\"/>\n",
    "</div>"
   ]
  },
  {
   "cell_type": "markdown",
   "id": "6787161c",
   "metadata": {
    "slideshow": {
     "slide_type": "subslide"
    }
   },
   "source": [
    "La clase `Bot` trae consigo un comando que es `help` el cual es un vistazo rápido a qué hace cada una de nuestras fuciones."
   ]
  },
  {
   "attachments": {},
   "cell_type": "markdown",
   "id": "3cba67e0",
   "metadata": {
    "slideshow": {
     "slide_type": "fragment"
    }
   },
   "source": [
    "<div>\n",
    "<img src=\"Imagenes/captura-comando.png\" width=\"500\" align=\"center\"/>\n",
    "</div>"
   ]
  }
 ],
 "metadata": {
  "celltoolbar": "Slideshow",
  "kernelspec": {
   "display_name": "Python 3 (ipykernel)",
   "language": "python",
   "name": "python3"
  },
  "language_info": {
   "codemirror_mode": {
    "name": "ipython",
    "version": 3
   },
   "file_extension": ".py",
   "mimetype": "text/x-python",
   "name": "python",
   "nbconvert_exporter": "python",
   "pygments_lexer": "ipython3",
   "version": "3.8.10"
  }
 },
 "nbformat": 4,
 "nbformat_minor": 5
}
