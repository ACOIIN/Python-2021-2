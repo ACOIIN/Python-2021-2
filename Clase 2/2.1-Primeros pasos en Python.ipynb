{
 "cells": [
  {
   "cell_type": "markdown",
   "id": "95e929c0",
   "metadata": {
    "slideshow": {
     "slide_type": "slide"
    }
   },
   "source": [
    "# Conociendo Python\n",
    "Python es un lenguaje muy popular el cual es recomendado para comenzar dado su fácil legibilidad al momento de leer. "
   ]
  },
  {
   "attachments": {
    "images.png": {
     "image/png": "[encoded data removed]"
    }
   },
   "cell_type": "markdown",
   "id": "ad693e55",
   "metadata": {
    "slideshow": {
     "slide_type": "fragment"
    }
   },
   "source": [
    "![images.png](attachment:images.png)"
   ]
  },
  {
   "cell_type": "markdown",
   "id": "b5cc7562",
   "metadata": {
    "slideshow": {
     "slide_type": "slide"
    }
   },
   "source": [
    "## 1. Instalación\n",
    "La instalación de Python es sencilla. \n",
    "Para Windows basta con descargarlo desde su [página oficial](https://www.python.org/downloads/).\n",
    "Por otro lado en Ubuntu ya viene instalado por defecto."
   ]
  },
  {
   "cell_type": "markdown",
   "id": "7d71a626",
   "metadata": {
    "slideshow": {
     "slide_type": "slide"
    }
   },
   "source": [
    "## 2. Versiones\n",
    "Las dos grandes versiones que existen son Python 2 y Python 3. Ambas cuentan con subversiones. La más actual es la 3.9."
   ]
  },
  {
   "cell_type": "markdown",
   "id": "96ddb465",
   "metadata": {
    "slideshow": {
     "slide_type": "slide"
    }
   },
   "source": [
    "## 3. Print\n",
    "print() es una función en python que funciona imprimir en pantalla."
   ]
  },
  {
   "cell_type": "code",
   "execution_count": null,
   "id": "b4209342",
   "metadata": {
    "slideshow": {
     "slide_type": "fragment"
    }
   },
   "outputs": [],
   "source": [
    "print(\"Hola mundo!!!\") # el clásico hola mundo"
   ]
  },
  {
   "cell_type": "code",
   "execution_count": null,
   "id": "bf185220",
   "metadata": {
    "slideshow": {
     "slide_type": "fragment"
    }
   },
   "outputs": [],
   "source": [
    "print(1, 2, 3, 4, 5) # si se coloca la ',' entre medio se separá por espacio"
   ]
  },
  {
   "cell_type": "markdown",
   "id": "ea2e56d8",
   "metadata": {
    "slideshow": {
     "slide_type": "slide"
    }
   },
   "source": [
    "## 4. Input\n",
    "input() es una función de python para recibir datos del usuario.\n",
    "Su uso es el siguiente:"
   ]
  },
  {
   "cell_type": "code",
   "execution_count": null,
   "id": "5051cd5a",
   "metadata": {
    "slideshow": {
     "slide_type": "fragment"
    }
   },
   "outputs": [],
   "source": [
    "x = input() # se declara la variable de nombre x donde se guardará el dato ingresado\n",
    "\n",
    "print(x)    # se imprime el dato ingresado de vuelta"
   ]
  },
  {
   "cell_type": "code",
   "execution_count": null,
   "id": "1f213cb4",
   "metadata": {
    "slideshow": {
     "slide_type": "fragment"
    }
   },
   "outputs": [],
   "source": [
    "# se puede ingresar más de un sólo input pero siempre guardando los datos que se ingresan en una variable\n",
    "a = input()\n",
    "b = input()\n",
    "c = input()\n",
    "\n",
    "print(\"Se ingresaron los números\", a, b, c)"
   ]
  },
  {
   "cell_type": "code",
   "execution_count": null,
   "id": "8cfc2457",
   "metadata": {
    "slideshow": {
     "slide_type": "fragment"
    }
   },
   "outputs": [],
   "source": [
    "# se puede hacer un mensaje incorporado dentro de la función input\n",
    "x = input(\"Ingresa un número del 1 al 10: \")\n",
    "print(\"El número ingresado fue:\", x)"
   ]
  },
  {
   "cell_type": "markdown",
   "id": "70d0ad4e",
   "metadata": {
    "slideshow": {
     "slide_type": "slide"
    }
   },
   "source": [
    "## 5. Correr Python dentro del PC\n",
    "Hay dos maneras.\n",
    "1. Correr python de caja de comandos. Sin guardar el código escrito. Basta escribiendo `python3` dentro de la terminal y correrá python en shell.\n",
    "2. Por archivo. Se guardan las lineas de código python a correr dentro de un archivo .py y se escribe en la caja de comandos `python3 nombre.py`."
   ]
  }
 ],
 "metadata": {
  "celltoolbar": "Slideshow",
  "kernelspec": {
   "display_name": "Python 3 (ipykernel)",
   "language": "python",
   "name": "python3"
  },
  "language_info": {
   "codemirror_mode": {
    "name": "ipython",
    "version": 3
   },
   "file_extension": ".py",
   "mimetype": "text/x-python",
   "name": "python",
   "nbconvert_exporter": "python",
   "pygments_lexer": "ipython3",
   "version": "3.8.10"
  }
 },
 "nbformat": 4,
 "nbformat_minor": 5
}
