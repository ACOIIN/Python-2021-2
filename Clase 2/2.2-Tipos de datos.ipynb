{
 "cells": [
  {
   "cell_type": "markdown",
   "id": "3f29b873",
   "metadata": {
    "slideshow": {
     "slide_type": "slide"
    }
   },
   "source": [
    "## 1.Tipos de variables\n",
    "Las variables en los lenguajes de programación hacen referencia a un espacio de memoria en la cual se guarda información de cierta forma."
   ]
  },
  {
   "cell_type": "markdown",
   "id": "3a138279",
   "metadata": {
    "slideshow": {
     "slide_type": "slide"
    }
   },
   "source": [
    "### 1.1. Variables primarias\n",
    "Variables sencillas de las cuales se van a componer las variables tipo clases u objetios que veremos más adelante."
   ]
  },
  {
   "cell_type": "markdown",
   "id": "201327a1",
   "metadata": {
    "slideshow": {
     "slide_type": "slide"
    }
   },
   "source": [
    "#### _int_\n",
    "Tipo de dato que representa a los enteros."
   ]
  },
  {
   "cell_type": "code",
   "execution_count": null,
   "id": "f0b402ff",
   "metadata": {
    "scrolled": false,
    "slideshow": {
     "slide_type": "fragment"
    }
   },
   "outputs": [],
   "source": [
    "109282828 # números enteros"
   ]
  },
  {
   "cell_type": "markdown",
   "id": "e502dc80",
   "metadata": {
    "slideshow": {
     "slide_type": "subslide"
    }
   },
   "source": [
    "##### Operaciones con int"
   ]
  },
  {
   "cell_type": "code",
   "execution_count": null,
   "id": "c99eb28e",
   "metadata": {
    "scrolled": true,
    "slideshow": {
     "slide_type": "fragment"
    }
   },
   "outputs": [],
   "source": [
    "# suma de float\n",
    "1 + 2 + 5"
   ]
  },
  {
   "cell_type": "code",
   "execution_count": null,
   "id": "77e67a47",
   "metadata": {
    "scrolled": true,
    "slideshow": {
     "slide_type": "fragment"
    }
   },
   "outputs": [],
   "source": [
    "# multipliación de enteros\n",
    "1 * 2 * 5"
   ]
  },
  {
   "cell_type": "code",
   "execution_count": null,
   "id": "2bdcf113",
   "metadata": {
    "scrolled": true,
    "slideshow": {
     "slide_type": "fragment"
    }
   },
   "outputs": [],
   "source": [
    "# división de enteros\n",
    "10 / 6"
   ]
  },
  {
   "cell_type": "code",
   "execution_count": null,
   "id": "20c8da38",
   "metadata": {
    "scrolled": true,
    "slideshow": {
     "slide_type": "fragment"
    }
   },
   "outputs": [],
   "source": [
    "# división parte entera\n",
    "123 // 3"
   ]
  },
  {
   "cell_type": "code",
   "execution_count": null,
   "id": "793b4ccc",
   "metadata": {
    "scrolled": true,
    "slideshow": {
     "slide_type": "fragment"
    }
   },
   "outputs": [],
   "source": [
    "# resto de la división\n",
    "# comumente llamada modulo\n",
    "10 % 3"
   ]
  },
  {
   "cell_type": "markdown",
   "id": "03a9ea37",
   "metadata": {
    "slideshow": {
     "slide_type": "slide"
    }
   },
   "source": [
    "#### _float_\n",
    "Tipo de dato que representa a los números decimales."
   ]
  },
  {
   "cell_type": "code",
   "execution_count": null,
   "id": "316c33c8",
   "metadata": {
    "scrolled": true,
    "slideshow": {
     "slide_type": "fragment"
    }
   },
   "outputs": [],
   "source": [
    "3.1459 # números flotantes"
   ]
  },
  {
   "cell_type": "markdown",
   "id": "6b7e6e2c",
   "metadata": {
    "slideshow": {
     "slide_type": "subslide"
    }
   },
   "source": [
    "##### Operaciones con float"
   ]
  },
  {
   "cell_type": "code",
   "execution_count": null,
   "id": "072804c4",
   "metadata": {
    "scrolled": true,
    "slideshow": {
     "slide_type": "fragment"
    }
   },
   "outputs": [],
   "source": [
    "# suma de float\n",
    "1.1 + 2.2 + 5.2"
   ]
  },
  {
   "cell_type": "code",
   "execution_count": null,
   "id": "9a74d988",
   "metadata": {
    "scrolled": true,
    "slideshow": {
     "slide_type": "fragment"
    }
   },
   "outputs": [],
   "source": [
    "# resta de float\n",
    "1.1 - 2.2 - 5.2"
   ]
  },
  {
   "cell_type": "code",
   "execution_count": null,
   "id": "b90825cd",
   "metadata": {
    "scrolled": true,
    "slideshow": {
     "slide_type": "fragment"
    }
   },
   "outputs": [],
   "source": [
    "# multipliación de flotantes\n",
    "2 * 2"
   ]
  },
  {
   "cell_type": "code",
   "execution_count": null,
   "id": "8eecdf35",
   "metadata": {
    "scrolled": true,
    "slideshow": {
     "slide_type": "fragment"
    }
   },
   "outputs": [],
   "source": [
    "# división de flotantes\n",
    "9.9 / 3.3"
   ]
  },
  {
   "cell_type": "markdown",
   "id": "1b5fd8c1",
   "metadata": {
    "slideshow": {
     "slide_type": "slide"
    }
   },
   "source": [
    "#### _string_\n",
    "Tipo de dato que representa a la secuencia de caracteres. \n",
    "Van entre comillas simples o dobles. "
   ]
  },
  {
   "cell_type": "code",
   "execution_count": null,
   "id": "37b109df",
   "metadata": {
    "scrolled": true,
    "slideshow": {
     "slide_type": "fragment"
    }
   },
   "outputs": [],
   "source": [
    "\"soy un string\" # string"
   ]
  },
  {
   "cell_type": "markdown",
   "id": "86e78b43",
   "metadata": {
    "slideshow": {
     "slide_type": "subslide"
    }
   },
   "source": [
    "##### Operaciones con strings"
   ]
  },
  {
   "cell_type": "code",
   "execution_count": null,
   "id": "081ba49b",
   "metadata": {
    "scrolled": true,
    "slideshow": {
     "slide_type": "fragment"
    }
   },
   "outputs": [],
   "source": [
    "\"hola\" + \" mundo!!!\" # concadenar"
   ]
  },
  {
   "cell_type": "code",
   "execution_count": null,
   "id": "02bea549",
   "metadata": {
    "scrolled": true,
    "slideshow": {
     "slide_type": "fragment"
    }
   },
   "outputs": [],
   "source": [
    "\"hola\"[2] # acceso a caracter\n",
    "# comienza a contar desde el 0\n",
    "# \"hola\"\n",
    "#  0123"
   ]
  },
  {
   "cell_type": "code",
   "execution_count": null,
   "id": "ca5c79a4",
   "metadata": {
    "scrolled": true,
    "slideshow": {
     "slide_type": "fragment"
    }
   },
   "outputs": [],
   "source": [
    "# acceso a substring\n",
    "# [a:b] = [a, b) posiciones\n",
    "# inclusiva y exclusiva respectivamente\n",
    "\"hola\"[0:4]"
   ]
  },
  {
   "cell_type": "code",
   "execution_count": null,
   "id": "b2f9936d",
   "metadata": {
    "scrolled": true,
    "slideshow": {
     "slide_type": "fragment"
    }
   },
   "outputs": [],
   "source": [
    "\"hola \" * 3 # repetir string"
   ]
  },
  {
   "cell_type": "markdown",
   "id": "7955972c",
   "metadata": {
    "slideshow": {
     "slide_type": "slide"
    }
   },
   "source": [
    "#### _bool_\n",
    "Tipo de dato que toma valor False o True. Utiles para el flujo de los programas. "
   ]
  },
  {
   "cell_type": "code",
   "execution_count": null,
   "id": "2c032667",
   "metadata": {
    "scrolled": true,
    "slideshow": {
     "slide_type": "fragment"
    }
   },
   "outputs": [],
   "source": [
    "True # verdadero"
   ]
  },
  {
   "cell_type": "code",
   "execution_count": null,
   "id": "c90bff8c",
   "metadata": {
    "scrolled": true,
    "slideshow": {
     "slide_type": "fragment"
    }
   },
   "outputs": [],
   "source": [
    "False # falso"
   ]
  },
  {
   "cell_type": "markdown",
   "id": "3b9a3480",
   "metadata": {
    "slideshow": {
     "slide_type": "subslide"
    }
   },
   "source": [
    "##### Proposiciones lógicas en Python"
   ]
  },
  {
   "cell_type": "code",
   "execution_count": null,
   "id": "a9aa97be",
   "metadata": {
    "scrolled": true,
    "slideshow": {
     "slide_type": "fragment"
    }
   },
   "outputs": [],
   "source": [
    "10 >= 3 # comparación"
   ]
  },
  {
   "cell_type": "code",
   "execution_count": null,
   "id": "568cfc7e",
   "metadata": {
    "scrolled": true,
    "slideshow": {
     "slide_type": "fragment"
    }
   },
   "outputs": [],
   "source": [
    "\"hola\" == \"HOLA\" # igualdad"
   ]
  },
  {
   "cell_type": "code",
   "execution_count": null,
   "id": "56ad4843",
   "metadata": {
    "scrolled": true,
    "slideshow": {
     "slide_type": "fragment"
    }
   },
   "outputs": [],
   "source": [
    "\"hola\" in \"hola mundo\" # contención"
   ]
  },
  {
   "cell_type": "markdown",
   "id": "b59e2f5f",
   "metadata": {
    "slideshow": {
     "slide_type": "slide"
    }
   },
   "source": [
    "### 1.2 función type\n",
    "La función type() se usa para saber cuál es el tipo de dato de alguna variable.\n",
    "\n",
    "Esto es útil en el Python ya que en este lenguaje se deduce que tipo de variable es algún dato. Se le conoce a esta caracteristca como lenguaje dinámico ya que las variables no están atadas a ser siempre el mismo tipo de dato. "
   ]
  },
  {
   "cell_type": "code",
   "execution_count": null,
   "id": "1eb796c0",
   "metadata": {
    "scrolled": true,
    "slideshow": {
     "slide_type": "fragment"
    }
   },
   "outputs": [],
   "source": [
    "type(123)"
   ]
  },
  {
   "cell_type": "code",
   "execution_count": null,
   "id": "bb023e17",
   "metadata": {
    "scrolled": true,
    "slideshow": {
     "slide_type": "fragment"
    }
   },
   "outputs": [],
   "source": [
    "type(\"123\")"
   ]
  },
  {
   "cell_type": "code",
   "execution_count": null,
   "id": "63cd23d1",
   "metadata": {
    "scrolled": true,
    "slideshow": {
     "slide_type": "fragment"
    }
   },
   "outputs": [],
   "source": [
    "type(123.0)"
   ]
  },
  {
   "cell_type": "markdown",
   "id": "e2a5eea7",
   "metadata": {
    "slideshow": {
     "slide_type": "subslide"
    }
   },
   "source": [
    "**NOTA IMPORTANTE**\n",
    "\n",
    "Cuando se ingresa algún dato usando la función input() siempre será de tipo _string_ por default. "
   ]
  },
  {
   "cell_type": "code",
   "execution_count": null,
   "id": "3756e44c",
   "metadata": {
    "scrolled": true,
    "slideshow": {
     "slide_type": "fragment"
    }
   },
   "outputs": [],
   "source": [
    "x = input()\n",
    "type(x)"
   ]
  },
  {
   "cell_type": "markdown",
   "id": "6906698d",
   "metadata": {
    "slideshow": {
     "slide_type": "fragment"
    }
   },
   "source": [
    "Para cambiar el tipo de dato de una variable a otra basta con colocar el nombre del tipo de dato al que queremos convertir y entre paréntesis la variable a transformar."
   ]
  },
  {
   "cell_type": "code",
   "execution_count": null,
   "id": "b4490e30",
   "metadata": {
    "scrolled": true,
    "slideshow": {
     "slide_type": "fragment"
    }
   },
   "outputs": [],
   "source": [
    "x = \"123\"\n",
    "type(int(x))"
   ]
  },
  {
   "cell_type": "code",
   "execution_count": null,
   "id": "ae7815dc",
   "metadata": {
    "scrolled": true,
    "slideshow": {
     "slide_type": "fragment"
    }
   },
   "outputs": [],
   "source": [
    "# Ejemplo con input de int\n",
    "x = int(input(\"Ingrese un número: \"))\n",
    "type(x)"
   ]
  }
 ],
 "metadata": {
  "celltoolbar": "Slideshow",
  "kernelspec": {
   "display_name": "Python 3 (ipykernel)",
   "language": "python",
   "name": "python3"
  },
  "language_info": {
   "codemirror_mode": {
    "name": "ipython",
    "version": 3
   },
   "file_extension": ".py",
   "mimetype": "text/x-python",
   "name": "python",
   "nbconvert_exporter": "python",
   "pygments_lexer": "ipython3",
   "version": "3.8.10"
  }
 },
 "nbformat": 4,
 "nbformat_minor": 5
}
