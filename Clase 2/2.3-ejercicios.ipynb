{
 "cells": [
  {
   "cell_type": "markdown",
   "id": "437061b2",
   "metadata": {},
   "source": [
    "# Ejercicios"
   ]
  },
  {
   "cell_type": "markdown",
   "id": "8185f450",
   "metadata": {},
   "source": [
    "## 1. Imprimir las siguientes expresiones"
   ]
  },
  {
   "cell_type": "code",
   "execution_count": null,
   "id": "5ec6d163",
   "metadata": {},
   "outputs": [],
   "source": [
    "print() # sumar desde el 1 hasta el 10"
   ]
  },
  {
   "cell_type": "code",
   "execution_count": null,
   "id": "3012bf63",
   "metadata": {},
   "outputs": [],
   "source": [
    "print() # el resto de dividir 100023 entre 1234"
   ]
  },
  {
   "cell_type": "code",
   "execution_count": null,
   "id": "f8fb4b0b",
   "metadata": {},
   "outputs": [],
   "source": [
    "print() # imprimir \"hola\" unas 100 veces"
   ]
  },
  {
   "cell_type": "code",
   "execution_count": null,
   "id": "141319e8",
   "metadata": {},
   "outputs": [],
   "source": [
    "print() # al número que da de dividir 123456789 entre 51 restarle 10 y multiplicarlo por 4"
   ]
  },
  {
   "cell_type": "markdown",
   "id": "73bbf4db",
   "metadata": {},
   "source": [
    "## 2. Usa input()\n",
    "Pide tres números al usuario para posteriormente imprimir lo siguiente:\n",
    "* el primer número más el tercero\n",
    "* el primer número restado con el segundo\n",
    "* el segundo, módulo el tercero"
   ]
  },
  {
   "cell_type": "code",
   "execution_count": null,
   "id": "7065ff03",
   "metadata": {},
   "outputs": [],
   "source": [
    "print() # pide que ingrese tres números\n",
    "\n",
    "# recibe el primer número\n",
    "# recibe el segundo número\n",
    "# recibe el tercer número\n",
    "\n",
    "print() # el primer número más el tercero\n",
    "print() # el primer número restado con el segundo\n",
    "print() # el segundo, módulo el tercero"
   ]
  },
  {
   "cell_type": "markdown",
   "id": "d29b6c53",
   "metadata": {},
   "source": [
    "## 3. Avance con el proyecto\n",
    "En estas secciones se ayudará a un avance gradual con el proyecto del batalla naval. \n",
    "\n",
    "En esta ocasión se pedirá hacer una bienvenida al juego de batalla naval junto con la muestra de las 3 opciones requeridas para el menú inicial, que son **\"jugar\"**, **\"ver mejores marcas\"** y **\"salir\"**. Para posteriormente pedir al usuario elegir entre estas 3 y finalmente imprimir como respuesta **\"Usted ha elegido la opción número {n}\"** siendo n el número de elección que hizo. "
   ]
  },
  {
   "cell_type": "code",
   "execution_count": null,
   "id": "2687f240",
   "metadata": {},
   "outputs": [],
   "source": [
    "print() # mensaje de bienvenida\n",
    "\n",
    "print(1, \"\") # opción 1\n",
    "print(2, \"\") # opción 2\n",
    "print(3, \"\") # opción 3\n",
    "\n",
    "# recibe la opción\n",
    "\n",
    "print() # impresión de opción escogida\n"
   ]
  }
 ],
 "metadata": {
  "kernelspec": {
   "display_name": "Python 3 (ipykernel)",
   "language": "python",
   "name": "python3"
  },
  "language_info": {
   "codemirror_mode": {
    "name": "ipython",
    "version": 3
   },
   "file_extension": ".py",
   "mimetype": "text/x-python",
   "name": "python",
   "nbconvert_exporter": "python",
   "pygments_lexer": "ipython3",
   "version": "3.8.10"
  }
 },
 "nbformat": 4,
 "nbformat_minor": 5
}
