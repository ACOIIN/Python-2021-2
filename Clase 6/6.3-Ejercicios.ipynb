{
 "cells": [
  {
   "cell_type": "markdown",
   "id": "d9492211",
   "metadata": {},
   "source": [
    "# Ejercicios"
   ]
  },
  {
   "cell_type": "markdown",
   "id": "cb803609",
   "metadata": {},
   "source": [
    "## 1. Secuencia de Lucas\n",
    "La secuencia de Lucas es una secuencia derivada de la secuencia de fibonacci. Sólo que en vez de comenzar con sus dos primeros números iguales a 1, este comienza con 2 y después 1. Para n > 1 se sigue igualmente que L(n) = L(n - 1) + L(n - 2).\n",
    "\n",
    "De esta manera la secuencia es algo más o menos así: 2, 1, 3, 4, 7, 11, 18...\n",
    "\n",
    "Defina una función recursiva que retorne el número de Lucas en posición N."
   ]
  },
  {
   "cell_type": "code",
   "execution_count": 4,
   "id": "4c59adba",
   "metadata": {},
   "outputs": [],
   "source": [
    "def Lucas(n, lista):\n",
    "    if lista[n] != -1:\n",
    "        return lista[n]\n",
    "    else:\n",
    "        lista[n] = Lucas(n-1, lista) + Lucas(n-2, lista)\n",
    "        return lista[n]"
   ]
  },
  {
   "cell_type": "code",
   "execution_count": 5,
   "id": "868b5a17",
   "metadata": {},
   "outputs": [],
   "source": [
    "lucas_lista = [-1 for i in range(1000)]\n",
    "lucas_lista[1] = 2\n",
    "lucas_lista[2] = 1"
   ]
  },
  {
   "cell_type": "code",
   "execution_count": 12,
   "id": "c659738e",
   "metadata": {},
   "outputs": [
    {
     "data": {
      "text/plain": [
       "123"
      ]
     },
     "execution_count": 12,
     "metadata": {},
     "output_type": "execute_result"
    }
   ],
   "source": [
    "Lucas(11, lucas_lista)"
   ]
  },
  {
   "cell_type": "markdown",
   "id": "5dcec30e",
   "metadata": {},
   "source": [
    "## 2. Secuencia de Collatz\n",
    "Escribe una función llamada `collatz()` que tenga como parametro `numero`. Si `numero` es par, entonces `collatz()` deberá imprimir `numero // 2` y retornar este mismo valor. Si `numero` es impar, entonces deberá imprimir `3 * numero + 1` y retornar este mismo valor.\n",
    "\n",
    "Luego escribe un programa que le pida al usuario un número entero y mantenga llamando a `collatz()` hasta que el número que regrese sea 1."
   ]
  },
  {
   "cell_type": "code",
   "execution_count": null,
   "id": "84567841",
   "metadata": {},
   "outputs": [],
   "source": [
    "def collatz(numero):\n",
    "    # si numero es par\n",
    "    \n",
    "    # si numero es impar"
   ]
  },
  {
   "cell_type": "code",
   "execution_count": null,
   "id": "a4d61a85",
   "metadata": {},
   "outputs": [],
   "source": [
    "# Pide al usuario un número\n",
    "\n",
    "# Llama a colatz() hasta que regrese un 1"
   ]
  },
  {
   "cell_type": "markdown",
   "id": "394108f6",
   "metadata": {},
   "source": [
    "## 3. Avance con el proyecto\n",
    "Hasta ahora deberías tener un código más o menos extenso. Lo cual es muy bueno porque indica que has progresado bastante. Pero esto trae consigo un problema y es que a simple vista el programa largo y engorroso de saber qué es cada cosa a la primero. Por lo que en esta ocasión nos vamos a dedicar a ordenar un poco el código gracias a lo que vimo en la clase 6."
   ]
  },
  {
   "cell_type": "markdown",
   "id": "cc54b10e",
   "metadata": {},
   "source": [
    "### 3.1 A crear funciones\n",
    "Tú tarea será crear las siguientes funciones:\n",
    "- menu_principal(): contendrá al menú con que arranca el programa\n",
    "- mostrar_ranking(): debe contener las acciones de la opcion \"mostrar ranking\"\n",
    "- menu_juego(): será el menú del juego como tal.\n",
    "- print_tablero(): imprime el tablero."
   ]
  },
  {
   "cell_type": "code",
   "execution_count": null,
   "id": "085d5614",
   "metadata": {},
   "outputs": [],
   "source": [
    "def menu_principal():\n",
    "    pass\n",
    "\n",
    "def mostrar_ranking():\n",
    "    pass\n",
    "\n",
    "def menu_juego():\n",
    "    pass\n",
    "\n",
    "def print_tablero():\n",
    "    pass"
   ]
  },
  {
   "cell_type": "markdown",
   "id": "5151a025",
   "metadata": {},
   "source": [
    "### 3.2 Modularización\n",
    "Crear los archivos `.py` que contengan las funciones que creaste anteriormente y crea un archivo llamado `main.py` en donde deberás importar las funciones anteriores. Este archivo será que el que vas a correr cuando quieras abrir tu programa."
   ]
  },
  {
   "cell_type": "code",
   "execution_count": null,
   "id": "e2d7c674",
   "metadata": {},
   "outputs": [],
   "source": [
    "# main.py\n",
    "\n",
    "# Importa las funciones menu_principal, mostrar_ranking, menu_juego, print_tablero\n",
    "\n",
    "print(\"🚢 Bienvenido a Batalla naval 🚢\") # mensaje de bienvenida\n",
    "\n",
    "menu_principal()"
   ]
  },
  {
   "cell_type": "code",
   "execution_count": null,
   "id": "970a984e",
   "metadata": {},
   "outputs": [],
   "source": [
    "# menu_principal.py\n",
    "\n",
    "# Importa las funciones mostrar_ranking, menu_juego, print_tablero"
   ]
  }
 ],
 "metadata": {
  "kernelspec": {
   "display_name": "Python 3 (ipykernel)",
   "language": "python",
   "name": "python3"
  },
  "language_info": {
   "codemirror_mode": {
    "name": "ipython",
    "version": 3
   },
   "file_extension": ".py",
   "mimetype": "text/x-python",
   "name": "python",
   "nbconvert_exporter": "python",
   "pygments_lexer": "ipython3",
   "version": "3.8.10"
  }
 },
 "nbformat": 4,
 "nbformat_minor": 5
}
