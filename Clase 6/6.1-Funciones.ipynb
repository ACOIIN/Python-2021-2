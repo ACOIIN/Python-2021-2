{
 "cells": [
  {
   "cell_type": "markdown",
   "id": "05f6ae14",
   "metadata": {
    "slideshow": {
     "slide_type": "slide"
    }
   },
   "source": [
    "# Funciones en Python\n",
    "Las funciones en los lenguages de programación son una herramienta que nos permite encapsular código y ponerle algún nombre sin necesidad de tener que estar copiando y pegando dichas líneas de código.\n",
    "\n",
    "Existe una lógica de input y output en una función. Se le entrega uno o varios paremétros para posteriormente este nos regrese algún dato. Por supuesto estas dos son opciones y podemos crear funciones que no pidan ningún dato y otras que no regresen nada.\n"
   ]
  },
  {
   "cell_type": "markdown",
   "id": "37b92e04",
   "metadata": {
    "slideshow": {
     "slide_type": "slide"
    }
   },
   "source": [
    "## 1 def hola \n",
    "Para entender mejor esto creemos una función."
   ]
  },
  {
   "cell_type": "code",
   "execution_count": 1,
   "id": "d2b313b8",
   "metadata": {
    "slideshow": {
     "slide_type": "fragment"
    }
   },
   "outputs": [],
   "source": [
    "def hola():\n",
    "    print(\"Hola!\")\n",
    "    print(\"qué tal?\")\n",
    "    print(\"aló\")"
   ]
  },
  {
   "cell_type": "markdown",
   "id": "ccb7ee9b",
   "metadata": {
    "slideshow": {
     "slide_type": "fragment"
    }
   },
   "source": [
    "Entonces al hacer esto"
   ]
  },
  {
   "cell_type": "code",
   "execution_count": 2,
   "id": "254a0d64",
   "metadata": {
    "slideshow": {
     "slide_type": "fragment"
    }
   },
   "outputs": [
    {
     "name": "stdout",
     "output_type": "stream",
     "text": [
      "Hola!\n",
      "qué tal?\n",
      "aló\n",
      "Hola!\n",
      "qué tal?\n",
      "aló\n",
      "Hola!\n",
      "qué tal?\n",
      "aló\n"
     ]
    }
   ],
   "source": [
    "hola()\n",
    "hola()\n",
    "hola()"
   ]
  },
  {
   "cell_type": "markdown",
   "id": "7acfa5d6",
   "metadata": {
    "slideshow": {
     "slide_type": "subslide"
    }
   },
   "source": [
    "Es lo mismo que si yo hiciera"
   ]
  },
  {
   "cell_type": "code",
   "execution_count": 3,
   "id": "2ade2850",
   "metadata": {
    "slideshow": {
     "slide_type": "fragment"
    }
   },
   "outputs": [
    {
     "name": "stdout",
     "output_type": "stream",
     "text": [
      "Hola!\n",
      "qué tal?\n",
      "aló\n",
      "Hola!\n",
      "qué tal?\n",
      "aló\n",
      "Hola!\n",
      "qué tal?\n",
      "aló\n"
     ]
    }
   ],
   "source": [
    "print(\"Hola!\")\n",
    "print(\"qué tal?\")\n",
    "print(\"aló\")\n",
    "print(\"Hola!\")\n",
    "print(\"qué tal?\")\n",
    "print(\"aló\")\n",
    "print(\"Hola!\")\n",
    "print(\"qué tal?\")\n",
    "print(\"aló\")"
   ]
  },
  {
   "cell_type": "markdown",
   "id": "6f148430",
   "metadata": {
    "slideshow": {
     "slide_type": "slide"
    }
   },
   "source": [
    "## 2 Funciones con argumento\n",
    "Las funciones también pueden tener argumento (input), al igual que las funciones en matemáticas."
   ]
  },
  {
   "cell_type": "code",
   "execution_count": 6,
   "id": "dd484b53",
   "metadata": {
    "slideshow": {
     "slide_type": "fragment"
    }
   },
   "outputs": [
    {
     "name": "stdout",
     "output_type": "stream",
     "text": [
      "Hola, Joe de pelos\n",
      "Hola, You de pelos\n"
     ]
    }
   ],
   "source": [
    "def saludar(nombre):\n",
    "    print(f\"Hola, {nombre} de pelos\")\n",
    "\n",
    "saludar(\"Joe\")\n",
    "saludar(\"You\")"
   ]
  },
  {
   "cell_type": "markdown",
   "id": "60cc98ee",
   "metadata": {
    "slideshow": {
     "slide_type": "slide"
    }
   },
   "source": [
    "## 3 Valor de retorno\n",
    "También se puede hacer que las funiones regresen datos."
   ]
  },
  {
   "cell_type": "code",
   "execution_count": 10,
   "id": "995f7378",
   "metadata": {
    "slideshow": {
     "slide_type": "fragment"
    }
   },
   "outputs": [
    {
     "name": "stdout",
     "output_type": "stream",
     "text": [
      "La suma es ... 300\n"
     ]
    }
   ],
   "source": [
    "# definimos la función preferentemente arriba de todo\n",
    "def suma(a, b):\n",
    "    return a + b\n",
    "\n",
    "print(f\"La suma es ... {10 * suma(10, 20)}\")"
   ]
  },
  {
   "cell_type": "markdown",
   "id": "d0cb63cd",
   "metadata": {
    "slideshow": {
     "slide_type": "subslide"
    }
   },
   "source": [
    "No necesariamente debe haber un sólo valor de retorno"
   ]
  },
  {
   "cell_type": "code",
   "execution_count": 11,
   "id": "4f574487",
   "metadata": {
    "slideshow": {
     "slide_type": "fragment"
    }
   },
   "outputs": [],
   "source": [
    "import random\n",
    "\n",
    "def getAnswer(answerNumber):\n",
    "    if answerNumber == 1:\n",
    "        return 'It is certain'\n",
    "    elif answerNumber == 2:\n",
    "        return 'It is decidedly so'\n",
    "    elif answerNumber == 3:\n",
    "        return 'Yes'\n",
    "    elif answerNumber == 4:\n",
    "        return 'Reply hazy try again'\n",
    "    elif answerNumber == 5:\n",
    "        return 'Ask again later'\n",
    "    elif answerNumber == 6:\n",
    "        return 'Concentrate and ask again'\n",
    "    elif answerNumber == 7:\n",
    "        return 'My reply is no'\n",
    "    elif answerNumber == 8:\n",
    "        return 'Outlook not so good'\n",
    "    elif answerNumber == 9:\n",
    "        return 'Very doubtful'"
   ]
  },
  {
   "cell_type": "code",
   "execution_count": 32,
   "id": "7cdd3bd1",
   "metadata": {
    "slideshow": {
     "slide_type": "fragment"
    }
   },
   "outputs": [
    {
     "name": "stdout",
     "output_type": "stream",
     "text": [
      "8\n",
      "Outlook not so good\n"
     ]
    }
   ],
   "source": [
    "r = random.randint(1, 9)\n",
    "print(r)\n",
    "fortune = getAnswer(r)\n",
    "print(fortune)"
   ]
  },
  {
   "cell_type": "markdown",
   "id": "cddc4a2b",
   "metadata": {
    "slideshow": {
     "slide_type": "fragment"
    }
   },
   "source": [
    "Código sacado del libro \"Automate the Boring Stuff with Python\"\n",
    "\n",
    "Podemos ver cómo se ejecuta el código en la siguiente [página](https://autbor.com/magic8ball/)."
   ]
  },
  {
   "cell_type": "markdown",
   "id": "0d24a507",
   "metadata": {
    "slideshow": {
     "slide_type": "slide"
    }
   },
   "source": [
    "## 4 Ejercicio\n"
   ]
  },
  {
   "cell_type": "markdown",
   "id": "9ae967dd",
   "metadata": {
    "slideshow": {
     "slide_type": "fragment"
    }
   },
   "source": [
    "Una palabra se dice que es un palíndromo si se lee igual de izquierda a derecha que de derecha a izquierda."
   ]
  },
  {
   "cell_type": "code",
   "execution_count": 37,
   "id": "fba90c32",
   "metadata": {
    "slideshow": {
     "slide_type": "fragment"
    }
   },
   "outputs": [
    {
     "data": {
      "text/plain": [
       "False"
      ]
     },
     "execution_count": 37,
     "metadata": {},
     "output_type": "execute_result"
    }
   ],
   "source": [
    "def es_palindromo(palabra):\n",
    "    n = len(palabra)\n",
    "    for i in range(n):\n",
    "        if palabra[i] != palabra[n - 1 - i]:\n",
    "            return False\n",
    "    return True\n",
    "\n",
    "es_palindromo(\"Sometemos\")"
   ]
  },
  {
   "cell_type": "markdown",
   "id": "95a95559",
   "metadata": {
    "slideshow": {
     "slide_type": "slide"
    }
   },
   "source": [
    "## 5 Variables locales\n",
    "Una variable local es un dato que sólo se puede usar en la scope en que se definio. Por ejemplo las variables definidas dentro de una función no se podrán usar (o al menos no serán las mismas) en el scope global del programa."
   ]
  },
  {
   "cell_type": "code",
   "execution_count": 40,
   "id": "eee62919",
   "metadata": {
    "slideshow": {
     "slide_type": "fragment"
    }
   },
   "outputs": [
    {
     "name": "stdout",
     "output_type": "stream",
     "text": [
      "3.14159aaaa3.14159aaaa3.14159aaaa3.14159aaaa3.14159aaaa3.14159aaaa3.14159aaaa3.14159aaaa3.14159aaaa3.14159aaaa\n"
     ]
    },
    {
     "ename": "NameError",
     "evalue": "name 'var' is not defined",
     "output_type": "error",
     "traceback": [
      "\u001b[0;31m---------------------------------------------------------------------------\u001b[0m",
      "\u001b[0;31mNameError\u001b[0m                                 Traceback (most recent call last)",
      "\u001b[0;32m/tmp/ipykernel_9083/87935742.py\u001b[0m in \u001b[0;36m<module>\u001b[0;34m\u001b[0m\n\u001b[1;32m      7\u001b[0m \u001b[0mvariable\u001b[0m\u001b[0;34m(\u001b[0m\u001b[0;34m)\u001b[0m\u001b[0;34m\u001b[0m\u001b[0;34m\u001b[0m\u001b[0m\n\u001b[1;32m      8\u001b[0m \u001b[0;34m\u001b[0m\u001b[0m\n\u001b[0;32m----> 9\u001b[0;31m \u001b[0mprint\u001b[0m\u001b[0;34m(\u001b[0m\u001b[0mvar\u001b[0m\u001b[0;34m)\u001b[0m\u001b[0;34m\u001b[0m\u001b[0;34m\u001b[0m\u001b[0m\n\u001b[0m",
      "\u001b[0;31mNameError\u001b[0m: name 'var' is not defined"
     ]
    }
   ],
   "source": [
    "def variable():\n",
    "    var = \"3.14159\"\n",
    "    var += \"aaaa\"\n",
    "    var = var * 10\n",
    "    print(var)\n",
    "\n",
    "variable()\n",
    "\n",
    "print(var)"
   ]
  },
  {
   "cell_type": "markdown",
   "id": "4f8afeb8",
   "metadata": {
    "slideshow": {
     "slide_type": "slide"
    }
   },
   "source": [
    "## 6 Funciones recursivas\n",
    "Las funciones recursivas son aquellas funciones que se llaman a si mismas. Son muy utilizadas en la algoritmia. De hecho hay lenguajes de programación basados en la idea de funcionar en base de funciones recursivas, leáse Haskell.\n",
    "\n",
    "Generalmente siguen la siguiente morfologia:\n",
    "```py\n",
    "def funcion(n):\n",
    "    if caso_base(n):\n",
    "        return n\n",
    "    else:\n",
    "        return funcion(n - 1) + 1\n",
    "```"
   ]
  },
  {
   "cell_type": "markdown",
   "id": "91334c2a",
   "metadata": {
    "slideshow": {
     "slide_type": "subslide"
    }
   },
   "source": [
    "### Ejemplo secuencia de Fibonacci\n",
    "La secuencia de Fibonacci es una secuencia muy conocida. Dice que f(0) = f(1) = 1 y para n > 1, f(n) = f(n - 1) + f(n - 2)."
   ]
  },
  {
   "cell_type": "code",
   "execution_count": 49,
   "id": "21285969",
   "metadata": {
    "slideshow": {
     "slide_type": "fragment"
    }
   },
   "outputs": [],
   "source": [
    "def fibonnaci(n):\n",
    "    # print(f\"Se llama a fibonacci de {n}\")\n",
    "    if n == 0 or n == 1:\n",
    "        return 1\n",
    "    else:\n",
    "        return fibonnaci(n - 1) + fibonnaci(n - 2)"
   ]
  },
  {
   "cell_type": "code",
   "execution_count": 50,
   "id": "8ca33dfc",
   "metadata": {
    "scrolled": true,
    "slideshow": {
     "slide_type": "fragment"
    }
   },
   "outputs": [
    {
     "data": {
      "text/plain": [
       "89"
      ]
     },
     "execution_count": 50,
     "metadata": {},
     "output_type": "execute_result"
    }
   ],
   "source": [
    "fibonnaci(10)"
   ]
  },
  {
   "cell_type": "markdown",
   "id": "58235276",
   "metadata": {
    "slideshow": {
     "slide_type": "fragment"
    }
   },
   "source": [
    "¿Es esta forma de implementar fiboacci eficiente?"
   ]
  }
 ],
 "metadata": {
  "celltoolbar": "Slideshow",
  "kernelspec": {
   "display_name": "Python 3 (ipykernel)",
   "language": "python",
   "name": "python3"
  },
  "language_info": {
   "codemirror_mode": {
    "name": "ipython",
    "version": 3
   },
   "file_extension": ".py",
   "mimetype": "text/x-python",
   "name": "python",
   "nbconvert_exporter": "python",
   "pygments_lexer": "ipython3",
   "version": "3.8.10"
  }
 },
 "nbformat": 4,
 "nbformat_minor": 5
}
