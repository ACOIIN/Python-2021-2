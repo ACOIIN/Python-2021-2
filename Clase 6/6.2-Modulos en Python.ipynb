{
 "cells": [
  {
   "cell_type": "markdown",
   "id": "f7e788f2",
   "metadata": {
    "slideshow": {
     "slide_type": "slide"
    }
   },
   "source": [
    "# Modulos en Python\n",
    "Los modulos es uno o archivos .py que vinenen con funcionalidades implementadas. Esto con el fin de no tener que reinventar la rueda y hacer el lenguaje de python extendible por parte de la comunidad.\n"
   ]
  },
  {
   "cell_type": "markdown",
   "id": "a9f7051b",
   "metadata": {
    "slideshow": {
     "slide_type": "slide"
    }
   },
   "source": [
    "## 1 Modulos locales\n",
    "Con fin de hacer el programa más ordenado se suele crear varios separados que contienen funciones más o menos independientes la una de la otra para posteriormente juntar todo en el mismo archivo `main.py` y sólo teniendo que correr este último para que el programa funcione."
   ]
  },
  {
   "cell_type": "markdown",
   "id": "f0b95c4a",
   "metadata": {
    "slideshow": {
     "slide_type": "fragment"
    }
   },
   "source": [
    "Para importar los modulos se puede ocupar las siguientes tres formas\n",
    "\n",
    "| Sintaxis      | Descripción | Uso de funciones     |\n",
    "| :---        |    :----:   |          ---: |\n",
    "| import module      | Importa todas las funciones del modulo| module.function()|\n",
    "| from module import function1, function2  | Importa funciones especificas       | function()|\n",
    "| from module import *   | Importa todas las funciones del modulo        | function()      |"
   ]
  },
  {
   "cell_type": "code",
   "execution_count": null,
   "id": "3db43bc0",
   "metadata": {
    "slideshow": {
     "slide_type": "subslide"
    }
   },
   "outputs": [],
   "source": [
    "# Suma.py\n",
    "def suma(x, y):\n",
    "    return x + y"
   ]
  },
  {
   "cell_type": "code",
   "execution_count": null,
   "id": "dc382c2a",
   "metadata": {
    "slideshow": {
     "slide_type": "fragment"
    }
   },
   "outputs": [],
   "source": [
    "# Saludar.py\n",
    "def saludar(nombre):\n",
    "    print(\"Hola\", nombre)"
   ]
  },
  {
   "cell_type": "code",
   "execution_count": null,
   "id": "393e81b8",
   "metadata": {
    "slideshow": {
     "slide_type": "fragment"
    }
   },
   "outputs": [],
   "source": [
    "# main.py\n",
    "from Suma import suma\n",
    "from Saludar import saludar\n",
    "\n",
    "nombre = input('ingresa tu nombre: ')\n",
    "\n",
    "saludar(nombre)\n",
    "\n",
    "numeros = input('¿Qué dos números quieres sumar? separalos por coma: ')\n",
    "a = numeros.split(',')[0]\n",
    "b = numeros.split(',')[1]\n",
    "\n",
    "print(\"La suma es da igual a\", suma(a, b))"
   ]
  },
  {
   "cell_type": "markdown",
   "id": "62ddbe7e",
   "metadata": {
    "slideshow": {
     "slide_type": "fragment"
    }
   },
   "source": [
    "Como en Jupyter no se puede importar internamente, vamos a hacerlo dentro de [replit](https://replit.com/~)."
   ]
  },
  {
   "cell_type": "markdown",
   "id": "fcf3c9a7",
   "metadata": {
    "slideshow": {
     "slide_type": "slide"
    }
   },
   "source": [
    "## 2 Modulos Externos\n",
    "Hay gran cantidad de modulos en Internet se pueden encontrar en [pypi](https://pypi.org/).\n",
    "\n",
    "Para instalar un módulo para poder ocuparlo después normalmente basta con hacer `pip3 install {nombre_modulo}`.\n",
    "\n",
    "Es común que tengan una guía con las funciones que traen. A esta guía se le llama documentación."
   ]
  },
  {
   "cell_type": "markdown",
   "id": "43606a2d",
   "metadata": {
    "slideshow": {
     "slide_type": "subslide"
    }
   },
   "source": [
    "## 2.1 Random\n",
    "Modulo que viene ya dentro de python y trae funciones que regresan datos de forma aleatoria. [Documentación](https://docs.python.org/3/library/random.html)"
   ]
  },
  {
   "cell_type": "code",
   "execution_count": null,
   "id": "130b42e3",
   "metadata": {
    "slideshow": {
     "slide_type": "fragment"
    }
   },
   "outputs": [],
   "source": [
    "import random as ra # se importa con un alias"
   ]
  },
  {
   "cell_type": "code",
   "execution_count": null,
   "id": "3db484eb",
   "metadata": {
    "slideshow": {
     "slide_type": "fragment"
    }
   },
   "outputs": [],
   "source": [
    "ra.randint(0, 10) # número random del 0 al 10"
   ]
  },
  {
   "cell_type": "code",
   "execution_count": null,
   "id": "7c28ea9d",
   "metadata": {
    "slideshow": {
     "slide_type": "fragment"
    }
   },
   "outputs": [],
   "source": [
    "ra.choice([\"perro\", \"gato\", \"loro\"]) # elección equiprobable de\n",
    "                                     # elementos de una lista"
   ]
  },
  {
   "cell_type": "code",
   "execution_count": null,
   "id": "04e87c09",
   "metadata": {
    "slideshow": {
     "slide_type": "fragment"
    }
   },
   "outputs": [],
   "source": [
    "ra.sample([i for i in range(20)], 4) # elección de subconjuto\n",
    "                                     # de una lista"
   ]
  },
  {
   "cell_type": "markdown",
   "id": "c58150b1",
   "metadata": {
    "slideshow": {
     "slide_type": "slide"
    }
   },
   "source": [
    "## 2.2 Math\n",
    "Modulo con funciones mátematicas. [Documentación](https://docs.python.org/3/library/math.html)"
   ]
  },
  {
   "cell_type": "code",
   "execution_count": null,
   "id": "9766e641",
   "metadata": {
    "slideshow": {
     "slide_type": "fragment"
    }
   },
   "outputs": [],
   "source": [
    "import math"
   ]
  },
  {
   "cell_type": "code",
   "execution_count": null,
   "id": "c87f5efc",
   "metadata": {
    "slideshow": {
     "slide_type": "fragment"
    }
   },
   "outputs": [],
   "source": [
    "math.factorial(10) # función factorial"
   ]
  },
  {
   "cell_type": "code",
   "execution_count": null,
   "id": "05968b9e",
   "metadata": {
    "slideshow": {
     "slide_type": "fragment"
    }
   },
   "outputs": [],
   "source": [
    "math.asin(1) # función seno"
   ]
  },
  {
   "cell_type": "code",
   "execution_count": null,
   "id": "63731f58",
   "metadata": {
    "slideshow": {
     "slide_type": "fragment"
    }
   },
   "outputs": [],
   "source": [
    "math.radians(90) # convierte grados a radianes"
   ]
  },
  {
   "cell_type": "code",
   "execution_count": null,
   "id": "1a3563ce",
   "metadata": {
    "slideshow": {
     "slide_type": "fragment"
    }
   },
   "outputs": [],
   "source": [
    "math.degrees(1.5707963267948966) # radianes grados a grados"
   ]
  },
  {
   "cell_type": "markdown",
   "id": "d0f7782a",
   "metadata": {
    "slideshow": {
     "slide_type": "slide"
    }
   },
   "source": [
    "## 2.2 Wikipedia\n",
    "Modulo que trae funcionalidades asociadas a la página de Wikipedia. [Documentación](https://pypi.org/project/wikipedia/)"
   ]
  },
  {
   "cell_type": "code",
   "execution_count": null,
   "id": "eb97c9bc",
   "metadata": {
    "slideshow": {
     "slide_type": "subslide"
    }
   },
   "outputs": [],
   "source": [
    "%pip install Wikipedia"
   ]
  },
  {
   "cell_type": "code",
   "execution_count": null,
   "id": "bd07f8e5",
   "metadata": {
    "slideshow": {
     "slide_type": "subslide"
    }
   },
   "outputs": [],
   "source": [
    "import wikipedia"
   ]
  },
  {
   "cell_type": "code",
   "execution_count": null,
   "id": "323b94e9",
   "metadata": {
    "slideshow": {
     "slide_type": "fragment"
    }
   },
   "outputs": [],
   "source": [
    "result = wikipedia.page(\"Pokemon\")\n",
    "print(result.summary)"
   ]
  },
  {
   "cell_type": "markdown",
   "id": "47acc854",
   "metadata": {
    "slideshow": {
     "slide_type": "slide"
    }
   },
   "source": [
    "## 2.3 Faker\n",
    "Modulo que crea funciones de datos aleatorios. Muy versátil. Te da por ejemplo nombres, ciudades, contraseñas, y muchas más cosas de forma aleatoria. [Documentación](https://pypi.org/project/Faker/)"
   ]
  },
  {
   "cell_type": "code",
   "execution_count": null,
   "id": "1acacae3",
   "metadata": {
    "slideshow": {
     "slide_type": "subslide"
    }
   },
   "outputs": [],
   "source": [
    "%pip install Faker"
   ]
  },
  {
   "cell_type": "code",
   "execution_count": null,
   "id": "2dbde23b",
   "metadata": {
    "slideshow": {
     "slide_type": "subslide"
    }
   },
   "outputs": [],
   "source": [
    "from faker import Faker"
   ]
  },
  {
   "cell_type": "code",
   "execution_count": null,
   "id": "fea5d29a",
   "metadata": {
    "slideshow": {
     "slide_type": "fragment"
    }
   },
   "outputs": [],
   "source": [
    "Faker().name()"
   ]
  },
  {
   "cell_type": "code",
   "execution_count": null,
   "id": "d8a7414e",
   "metadata": {
    "slideshow": {
     "slide_type": "fragment"
    }
   },
   "outputs": [],
   "source": [
    "Faker().address()"
   ]
  },
  {
   "cell_type": "code",
   "execution_count": null,
   "id": "c8b371a8",
   "metadata": {
    "slideshow": {
     "slide_type": "fragment"
    }
   },
   "outputs": [],
   "source": [
    "Faker().password()"
   ]
  },
  {
   "cell_type": "code",
   "execution_count": null,
   "id": "dd097627",
   "metadata": {},
   "outputs": [],
   "source": [
    "Faker().profile()"
   ]
  }
 ],
 "metadata": {
  "celltoolbar": "Slideshow",
  "kernelspec": {
   "display_name": "Python 3 (ipykernel)",
   "language": "python",
   "name": "python3"
  },
  "language_info": {
   "codemirror_mode": {
    "name": "ipython",
    "version": 3
   },
   "file_extension": ".py",
   "mimetype": "text/x-python",
   "name": "python",
   "nbconvert_exporter": "python",
   "pygments_lexer": "ipython3",
   "version": "3.8.10"
  }
 },
 "nbformat": 4,
 "nbformat_minor": 5
}
