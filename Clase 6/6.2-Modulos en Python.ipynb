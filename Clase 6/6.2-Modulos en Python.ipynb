{
 "cells": [
  {
   "cell_type": "markdown",
   "id": "f7e788f2",
   "metadata": {
    "slideshow": {
     "slide_type": "slide"
    }
   },
   "source": [
    "# Modulos en Python\n",
    "Los modulos es uno o archivos .py que vinenen con funcionalidades implementadas. Esto con el fin de no tener que reinventar la rueda y hacer el lenguaje de python extendible por parte de la comunidad.\n"
   ]
  },
  {
   "cell_type": "markdown",
   "id": "a9f7051b",
   "metadata": {
    "slideshow": {
     "slide_type": "slide"
    }
   },
   "source": [
    "## 1 Modulos locales\n",
    "Con fin de hacer el programa más ordenado se suele crear varios separados que contienen funciones más o menos independientes la una de la otra para posteriormente juntar todo en el mismo archivo `main.py` y sólo teniendo que correr este último para que el programa funcione."
   ]
  },
  {
   "cell_type": "markdown",
   "id": "f0b95c4a",
   "metadata": {
    "slideshow": {
     "slide_type": "fragment"
    }
   },
   "source": [
    "Para importar los modulos se puede ocupar las siguientes tres formas\n",
    "\n",
    "| Sintaxis      | Descripción | Uso de funciones     |\n",
    "| :---        |    :----:   |          ---: |\n",
    "| import module      | Importa todas las funciones del modulo| module.function()|\n",
    "| from module import function1, function2  | Importa funciones especificas       | function()|\n",
    "| from module import *   | Importa todas las funciones del modulo        | function()      |"
   ]
  },
  {
   "cell_type": "code",
   "execution_count": null,
   "id": "3db43bc0",
   "metadata": {
    "slideshow": {
     "slide_type": "subslide"
    }
   },
   "outputs": [],
   "source": [
    "# Suma.py\n",
    "def suma(x, y):\n",
    "    return x + y"
   ]
  },
  {
   "cell_type": "code",
   "execution_count": null,
   "id": "dc382c2a",
   "metadata": {
    "slideshow": {
     "slide_type": "fragment"
    }
   },
   "outputs": [],
   "source": [
    "# Saludar.py\n",
    "def saludar(nombre):\n",
    "    print(\"Hola\", nombre)"
   ]
  },
  {
   "cell_type": "code",
   "execution_count": null,
   "id": "393e81b8",
   "metadata": {
    "slideshow": {
     "slide_type": "fragment"
    }
   },
   "outputs": [],
   "source": [
    "# main.py\n",
    "from Suma import suma\n",
    "from Saludar import saludar\n",
    "\n",
    "nombre = input('ingresa tu nombre: ')\n",
    "\n",
    "saludar(nombre)\n",
    "\n",
    "numeros = input('¿Qué dos números quieres sumar? separalos por coma: ')\n",
    "a = numeros.split(',')[0]\n",
    "b = numeros.split(',')[1]\n",
    "\n",
    "print(\"La suma es da igual a\", suma(a, b))"
   ]
  },
  {
   "cell_type": "markdown",
   "id": "62ddbe7e",
   "metadata": {
    "slideshow": {
     "slide_type": "fragment"
    }
   },
   "source": [
    "Como en Jupyter no se puede importar internamente, vamos a hacerlo dentro de [replit](https://replit.com/~)."
   ]
  },
  {
   "cell_type": "markdown",
   "id": "fcf3c9a7",
   "metadata": {
    "slideshow": {
     "slide_type": "slide"
    }
   },
   "source": [
    "## 2 Modulos Externos\n",
    "Hay gran cantidad de modulos en Internet se pueden encontrar en [pypi](https://pypi.org/).\n",
    "\n",
    "Para instalar un módulo para poder ocuparlo después normalmente basta con hacer `pip3 install {nombre_modulo}`.\n",
    "\n",
    "Es común que tengan una guía con las funciones que traen. A esta guía se le llama documentación."
   ]
  },
  {
   "cell_type": "markdown",
   "id": "43606a2d",
   "metadata": {
    "slideshow": {
     "slide_type": "subslide"
    }
   },
   "source": [
    "## 2.1 Random\n",
    "Modulo que viene ya dentro de python y trae funciones que regresan datos de forma aleatoria. [Documentación](https://docs.python.org/3/library/random.html)"
   ]
  },
  {
   "cell_type": "code",
   "execution_count": 2,
   "id": "130b42e3",
   "metadata": {
    "slideshow": {
     "slide_type": "fragment"
    }
   },
   "outputs": [],
   "source": [
    "import random as ra # se importa con un alias"
   ]
  },
  {
   "cell_type": "code",
   "execution_count": 15,
   "id": "3db484eb",
   "metadata": {
    "slideshow": {
     "slide_type": "fragment"
    }
   },
   "outputs": [
    {
     "data": {
      "text/plain": [
       "4"
      ]
     },
     "execution_count": 15,
     "metadata": {},
     "output_type": "execute_result"
    }
   ],
   "source": [
    "ra.randint(0, 10) # número random del 0 al 10"
   ]
  },
  {
   "cell_type": "code",
   "execution_count": 30,
   "id": "7c28ea9d",
   "metadata": {
    "slideshow": {
     "slide_type": "fragment"
    }
   },
   "outputs": [
    {
     "data": {
      "text/plain": [
       "'gato'"
      ]
     },
     "execution_count": 30,
     "metadata": {},
     "output_type": "execute_result"
    }
   ],
   "source": [
    "ra.choice([\"perro\", \"gato\", \"loro\"]) # elección equiprobable de\n",
    "                                     # elementos de una lista"
   ]
  },
  {
   "cell_type": "code",
   "execution_count": 14,
   "id": "04e87c09",
   "metadata": {
    "slideshow": {
     "slide_type": "fragment"
    }
   },
   "outputs": [
    {
     "data": {
      "text/plain": [
       "[1, 9, 13, 0]"
      ]
     },
     "execution_count": 14,
     "metadata": {},
     "output_type": "execute_result"
    }
   ],
   "source": [
    "ra.sample([i for i in range(20)], 4) # elección de subconjuto\n",
    "                                     # de una lista"
   ]
  },
  {
   "cell_type": "markdown",
   "id": "c58150b1",
   "metadata": {
    "slideshow": {
     "slide_type": "slide"
    }
   },
   "source": [
    "## 2.2 Math\n",
    "Modulo con funciones mátematicas. [Documentación](https://docs.python.org/3/library/math.html)"
   ]
  },
  {
   "cell_type": "code",
   "execution_count": 58,
   "id": "9766e641",
   "metadata": {
    "slideshow": {
     "slide_type": "fragment"
    }
   },
   "outputs": [],
   "source": [
    "import math"
   ]
  },
  {
   "cell_type": "code",
   "execution_count": 62,
   "id": "c87f5efc",
   "metadata": {
    "slideshow": {
     "slide_type": "fragment"
    }
   },
   "outputs": [
    {
     "data": {
      "text/plain": [
       "120"
      ]
     },
     "execution_count": 62,
     "metadata": {},
     "output_type": "execute_result"
    }
   ],
   "source": [
    "math.factorial(5) # función factorial"
   ]
  },
  {
   "cell_type": "code",
   "execution_count": 71,
   "id": "05968b9e",
   "metadata": {
    "slideshow": {
     "slide_type": "fragment"
    }
   },
   "outputs": [
    {
     "ename": "ValueError",
     "evalue": "math domain error",
     "output_type": "error",
     "traceback": [
      "\u001b[0;31m---------------------------------------------------------------------------\u001b[0m",
      "\u001b[0;31mValueError\u001b[0m                                Traceback (most recent call last)",
      "\u001b[0;32m/tmp/ipykernel_10702/243499558.py\u001b[0m in \u001b[0;36m<module>\u001b[0;34m\u001b[0m\n\u001b[0;32m----> 1\u001b[0;31m \u001b[0mmath\u001b[0m\u001b[0;34m.\u001b[0m\u001b[0masin\u001b[0m\u001b[0;34m(\u001b[0m\u001b[0;36m1.5707963267948966\u001b[0m\u001b[0;34m)\u001b[0m \u001b[0;31m# función seno\u001b[0m\u001b[0;34m\u001b[0m\u001b[0;34m\u001b[0m\u001b[0m\n\u001b[0m",
      "\u001b[0;31mValueError\u001b[0m: math domain error"
     ]
    }
   ],
   "source": [
    "math.asin(1.5707963267948966) # función seno"
   ]
  },
  {
   "cell_type": "code",
   "execution_count": 70,
   "id": "63731f58",
   "metadata": {
    "slideshow": {
     "slide_type": "fragment"
    }
   },
   "outputs": [
    {
     "data": {
      "text/plain": [
       "1.5707963267948966"
      ]
     },
     "execution_count": 70,
     "metadata": {},
     "output_type": "execute_result"
    }
   ],
   "source": [
    "math.radians(90) # convierte grados a radianes"
   ]
  },
  {
   "cell_type": "code",
   "execution_count": 72,
   "id": "1a3563ce",
   "metadata": {
    "slideshow": {
     "slide_type": "fragment"
    }
   },
   "outputs": [
    {
     "data": {
      "text/plain": [
       "90.0"
      ]
     },
     "execution_count": 72,
     "metadata": {},
     "output_type": "execute_result"
    }
   ],
   "source": [
    "math.degrees(1.5707963267948966) # radianes grados a grados"
   ]
  },
  {
   "cell_type": "markdown",
   "id": "d0f7782a",
   "metadata": {
    "slideshow": {
     "slide_type": "slide"
    }
   },
   "source": [
    "## 2.2 Wikipedia\n",
    "Modulo que trae funcionalidades asociadas a la página de Wikipedia. [Documentación](https://pypi.org/project/wikipedia/)"
   ]
  },
  {
   "cell_type": "code",
   "execution_count": 73,
   "id": "eb97c9bc",
   "metadata": {
    "slideshow": {
     "slide_type": "subslide"
    }
   },
   "outputs": [
    {
     "name": "stdout",
     "output_type": "stream",
     "text": [
      "Requirement already satisfied: Wikipedia in /home/warp/.local/lib/python3.8/site-packages (1.4.0)\n",
      "Requirement already satisfied: requests<3.0.0,>=2.0.0 in /usr/lib/python3/dist-packages (from Wikipedia) (2.22.0)\n",
      "Requirement already satisfied: beautifulsoup4 in /home/warp/.local/lib/python3.8/site-packages (from Wikipedia) (4.10.0)\n",
      "Requirement already satisfied: soupsieve>1.2 in /home/warp/.local/lib/python3.8/site-packages (from beautifulsoup4->Wikipedia) (2.2.1)\n",
      "Note: you may need to restart the kernel to use updated packages.\n"
     ]
    }
   ],
   "source": [
    "%pip install Wikipedia"
   ]
  },
  {
   "cell_type": "code",
   "execution_count": 74,
   "id": "bd07f8e5",
   "metadata": {
    "slideshow": {
     "slide_type": "subslide"
    }
   },
   "outputs": [],
   "source": [
    "import wikipedia"
   ]
  },
  {
   "cell_type": "code",
   "execution_count": 77,
   "id": "323b94e9",
   "metadata": {
    "slideshow": {
     "slide_type": "fragment"
    }
   },
   "outputs": [
    {
     "name": "stdout",
     "output_type": "stream",
     "text": [
      "China (Chinese: 中国; pinyin: Zhōngguó; lit. 'Central State; Middle Kingdom'), officially the People's Republic of China (Chinese: 中华人民共和国; pinyin: Zhōnghuá Rénmín Gònghéguó; abbr. PRC), is a country in East Asia. It is the world's most populous country, with a population of more than 1.4 billion. China follows a single standard time offset of UTC+08:00 even though it spans five geographical time zones and borders 14 countries, the second most of any country in the world after Russia. Covering an area of approximately 9.6 million square kilometers (3.7 million mi2), it is the world's third or fourth largest country. \n",
      "The country is officially divided into 23 provinces, five autonomous regions, and four direct-controlled municipalities of Beijing (capital city), Tianjin, Shanghai (largest city), and Chongqing, as well as two special administrative regions, Hong Kong and Macau.\n",
      "China emerged as one of the world's first civilizations in the fertile basin of the Yellow River in the North China Plain. China was one of the world's foremost economic powers for most of the two millennia from the 1st until the 19th century. For millennia, China's political system was based on absolute hereditary monarchies, or dynasties, beginning with the Xia dynasty in 21st century BCE. Since then, China has expanded, fractured, and re-unified numerous times. In the 3rd century BCE, the Qin reunited core China and established the first Chinese empire. The succeeding Han dynasty (206 BCE–220 CE) saw some of the most advanced technology at that time, including papermaking and the compass, along with agricultural and medical improvements. The invention of gunpowder and movable type in the Tang dynasty (618–907) and Northern Song Dynasty (960–1127) completed the Four Great Inventions. Tang culture spread widely in Asia, as the new Silk Route brought traders to as far as Mesopotamia and the Horn of Africa. The Qing Empire, China's last dynasty, which formed the territorial basis for modern China, suffered heavy losses to foreign imperialism. The Chinese monarchy collapsed in 1912 with the 1911 Revolution, when the Republic of China (ROC) replaced the Qing dynasty. China was invaded by the Empire of Japan during World War II. The Chinese Civil War resulted in a division of territory in 1949 when the Chinese Communist Party (CCP) led by Mao Zedong established the People's Republic of China on mainland China while the Kuomintang-led ROC government retreated to the island of Taiwan. Both the PRC and the ROC currently claim to be the sole legitimate government of China, resulting in an ongoing dispute even after the United Nations recognized the PRC as the government to represent China at all UN conferences in 1971. China is currently governed as a unitary one-party socialist republic by the Communist Party of China.\n",
      "China is a permanent member of the United Nations Security Council and a founding member of several multilateral and regional cooperation organizations such as the Asian Infrastructure Investment Bank, the Silk Road Fund, the New Development Bank, the Shanghai Cooperation Organization, and the Regional Comprehensive Economic Partnership, and is a member of the BRICS, the G8+5, the G20, the APEC, and the East Asia Summit. It ranks among the lowest in international measurements of civil liberties, government transparency, freedom of the press, freedom of religion and ethnic minorities. Chinese authorities have been criticized by political dissidents and human rights activists for widespread human rights abuses, including political repression, mass censorship, mass surveillance of their citizens and violent suppression of protests.\n",
      "After economic reforms in 1978, and its entry into the World Trade Organization in 2001, China's economy became the second-largest country by nominal GDP in 2010 and grew to the largest in the world by PPP in 2014. China is the world's fastest-growing major economy, the second-wealthiest nation in the world, and the world's largest manufacturer and exporter. The nation has the world's largest standing army—the People's Liberation Army—the second-largest defense budget, and is a recognized nuclear weapons state. China has been characterized as a potential superpower due to its large economy and powerful military.\n"
     ]
    }
   ],
   "source": [
    "result = wikipedia.page(\"Chile\")\n",
    "print(result.summary)"
   ]
  },
  {
   "cell_type": "markdown",
   "id": "47acc854",
   "metadata": {
    "slideshow": {
     "slide_type": "slide"
    }
   },
   "source": [
    "## 2.3 Faker\n",
    "Modulo que crea funciones de datos aleatorios. Muy versátil. Te da por ejemplo nombres, ciudades, contraseñas, y muchas más cosas de forma aleatoria. [Documentación](https://pypi.org/project/Faker/)"
   ]
  },
  {
   "cell_type": "code",
   "execution_count": 78,
   "id": "1acacae3",
   "metadata": {
    "slideshow": {
     "slide_type": "subslide"
    }
   },
   "outputs": [
    {
     "name": "stdout",
     "output_type": "stream",
     "text": [
      "Requirement already satisfied: Faker in /home/warp/.local/lib/python3.8/site-packages (8.14.1)\n",
      "Requirement already satisfied: text-unidecode==1.3 in /home/warp/.local/lib/python3.8/site-packages (from Faker) (1.3)\n",
      "Requirement already satisfied: python-dateutil>=2.4 in /home/warp/.local/lib/python3.8/site-packages (from Faker) (2.8.2)\n",
      "Requirement already satisfied: six>=1.5 in /usr/lib/python3/dist-packages (from python-dateutil>=2.4->Faker) (1.14.0)\n",
      "Note: you may need to restart the kernel to use updated packages.\n"
     ]
    }
   ],
   "source": [
    "%pip install Faker"
   ]
  },
  {
   "cell_type": "code",
   "execution_count": 79,
   "id": "2dbde23b",
   "metadata": {
    "slideshow": {
     "slide_type": "subslide"
    }
   },
   "outputs": [],
   "source": [
    "from faker import Faker"
   ]
  },
  {
   "cell_type": "code",
   "execution_count": 92,
   "id": "fea5d29a",
   "metadata": {
    "slideshow": {
     "slide_type": "fragment"
    }
   },
   "outputs": [
    {
     "data": {
      "text/plain": [
       "'Douglas Ruiz'"
      ]
     },
     "execution_count": 92,
     "metadata": {},
     "output_type": "execute_result"
    }
   ],
   "source": [
    "Faker().name()"
   ]
  },
  {
   "cell_type": "code",
   "execution_count": 97,
   "id": "d8a7414e",
   "metadata": {
    "slideshow": {
     "slide_type": "fragment"
    }
   },
   "outputs": [
    {
     "data": {
      "text/plain": [
       "'14016 Larry Flats Apt. 321\\nMaddoxstad, NY 68825'"
      ]
     },
     "execution_count": 97,
     "metadata": {},
     "output_type": "execute_result"
    }
   ],
   "source": [
    "Faker().address()"
   ]
  },
  {
   "cell_type": "code",
   "execution_count": 103,
   "id": "c8b371a8",
   "metadata": {
    "slideshow": {
     "slide_type": "fragment"
    }
   },
   "outputs": [
    {
     "data": {
      "text/plain": [
       "'A!7ghC(cyW'"
      ]
     },
     "execution_count": 103,
     "metadata": {},
     "output_type": "execute_result"
    }
   ],
   "source": [
    "Faker().password()"
   ]
  },
  {
   "cell_type": "code",
   "execution_count": 104,
   "id": "dd097627",
   "metadata": {},
   "outputs": [
    {
     "data": {
      "text/plain": [
       "{'job': 'Aid worker',\n",
       " 'company': 'Ward PLC',\n",
       " 'ssn': '188-94-7272',\n",
       " 'residence': '946 Julie Isle\\nNorth Brian, AK 57751',\n",
       " 'current_location': (Decimal('76.524207'), Decimal('148.300736')),\n",
       " 'blood_group': 'B+',\n",
       " 'website': ['http://www.baker.info/'],\n",
       " 'username': 'johnstonveronica',\n",
       " 'name': 'Mary Greene',\n",
       " 'sex': 'F',\n",
       " 'address': 'PSC 2692, Box 9442\\nAPO AP 60862',\n",
       " 'mail': 'raymond69@yahoo.com',\n",
       " 'birthdate': datetime.date(1949, 6, 28)}"
      ]
     },
     "execution_count": 104,
     "metadata": {},
     "output_type": "execute_result"
    }
   ],
   "source": [
    "Faker().profile()"
   ]
  }
 ],
 "metadata": {
  "celltoolbar": "Slideshow",
  "kernelspec": {
   "display_name": "Python 3 (ipykernel)",
   "language": "python",
   "name": "python3"
  },
  "language_info": {
   "codemirror_mode": {
    "name": "ipython",
    "version": 3
   },
   "file_extension": ".py",
   "mimetype": "text/x-python",
   "name": "python",
   "nbconvert_exporter": "python",
   "pygments_lexer": "ipython3",
   "version": "3.8.10"
  }
 },
 "nbformat": 4,
 "nbformat_minor": 5
}
