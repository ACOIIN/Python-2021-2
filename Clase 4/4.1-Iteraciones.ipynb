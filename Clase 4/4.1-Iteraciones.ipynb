{
 "cells": [
  {
   "cell_type": "markdown",
   "id": "bc77c375",
   "metadata": {
    "slideshow": {
     "slide_type": "slide"
    }
   },
   "source": [
    "# Iteraciones\n",
    "Las iteraciones en programación es una función la cual va a repetir ciera cantidad de veces unas lineas de código. Similar al concepto de if en el cual se corrían las líneas de código que estuviesen indentadas, para las iteraciones usando _while_ y _for_ se tendrá una sintaxis parecida."
   ]
  },
  {
   "cell_type": "markdown",
   "id": "3402db3e",
   "metadata": {
    "slideshow": {
     "slide_type": "slide"
    }
   },
   "source": [
    "## 1 While\n",
    "while significa mientras en inglés y tal como su nombre lo prevee una iteración while es una en donde se mantendrá en ciclo mientras cierta condición se mantenga. \n",
    "\n",
    "Su sintaxis es la siguiente:\n",
    "```python\n",
    "while {condicion}:\n",
    "    # linea a correr\n",
    "    # linea a correr\n",
    "```"
   ]
  },
  {
   "cell_type": "code",
   "execution_count": null,
   "id": "fcc9a101",
   "metadata": {
    "slideshow": {
     "slide_type": "fragment"
    }
   },
   "outputs": [],
   "source": [
    "# sintaxis\n",
    "i = 0\n",
    "palabra = 'hola soy una palabra'\n",
    "while palabra[i] != 'p':\n",
    "    print(i, palabra[i])\n",
    "    i += 1"
   ]
  },
  {
   "cell_type": "markdown",
   "id": "0253534d",
   "metadata": {
    "slideshow": {
     "slide_type": "slide"
    }
   },
   "source": [
    "### 1.1 Sumar los naturales hasta el 100\n",
    "Usando el tipo de bucle _while_ haremos la suam desde 1 hasta el 100."
   ]
  },
  {
   "cell_type": "code",
   "execution_count": null,
   "id": "2b804a89",
   "metadata": {
    "scrolled": true,
    "slideshow": {
     "slide_type": "fragment"
    }
   },
   "outputs": [],
   "source": [
    "i = 1\n",
    "suma = 0\n",
    "while i < 101:\n",
    "    suma += i\n",
    "    print(\"Se sumó el\", i)\n",
    "    i += 1\n",
    "print(\"La suma total dio\", suma)"
   ]
  },
  {
   "cell_type": "markdown",
   "id": "16512ed8",
   "metadata": {
    "slideshow": {
     "slide_type": "slide"
    }
   },
   "source": [
    "### 1.2 Menú con _while_\n",
    "Haremos un menú usando el tipo de bucle _while_, esto les ayudará para su proyecto. "
   ]
  },
  {
   "cell_type": "code",
   "execution_count": null,
   "id": "dad6fdea",
   "metadata": {
    "slideshow": {
     "slide_type": "fragment"
    }
   },
   "outputs": [],
   "source": [
    "opcion = \"\"\n",
    "\n",
    "while opcion != \"2\":\n",
    "    print(\"1) Saludar\")\n",
    "    print(\"2) Salir\")\n",
    "    opcion = input(\"Escoja una opción: \")\n",
    "    \n",
    "    if opcion == \"1\":\n",
    "        print(\"Buenos días :)\")\n",
    "    elif opcion == \"2\":\n",
    "        print(\"Adiós, regresa pronto\")\n",
    "    else:\n",
    "        print(\"Opción no encontrada\")\n",
    "print(\"---Afuera del while---\")"
   ]
  },
  {
   "cell_type": "markdown",
   "id": "38ae462a",
   "metadata": {
    "slideshow": {
     "slide_type": "fragment"
    }
   },
   "source": [
    "Notese que comparamos con strings \"1\" y \"2\" porque el input siempre lee strings. "
   ]
  },
  {
   "cell_type": "markdown",
   "id": "22a5b45f",
   "metadata": {
    "slideshow": {
     "slide_type": "slide"
    }
   },
   "source": [
    "## 2 For\n",
    "for significa _por_ en inglés pero una traducción que mantiene más el significado para este contexto es _para_. En el for se necesita de una variable que va a ser usada como indice del bucle. En el for se recorre cierta serie de elementos, cuando se termina de recorrer todos los previstos se finaliza el for.\n",
    "\n",
    "Su sintaxis es la siguiente:\n",
    "```python\n",
    "for i in {recorrer}:\n",
    "    # linea a correr\n",
    "    # linea a correr\n",
    "```"
   ]
  },
  {
   "cell_type": "markdown",
   "id": "34d1c976",
   "metadata": {
    "slideshow": {
     "slide_type": "fragment"
    }
   },
   "source": [
    "Los objetos que se pueden recorrer son varios, pero se mostrarán dos que se utilizan mucho."
   ]
  },
  {
   "cell_type": "markdown",
   "id": "a81e316a",
   "metadata": {
    "slideshow": {
     "slide_type": "slide"
    }
   },
   "source": [
    "### 2.1 range()\n",
    "range es una utilidad de python que nos servirá en el for para recorrer una secuencia de números.\n",
    "\n",
    "| Sintaxis        | Descripción |\n",
    "| :---            | ---: |\n",
    "| range(n)        | secuencia desde 0 hasta n - 1    | \n",
    "| range(m, n)     | secuencia desde m hasta n - 1    |\n",
    "| range(m, n, ñ)     | secuencia desde m con saltos de ñ en ñ, hasta llegar al último número que no pasa de n  |"
   ]
  },
  {
   "cell_type": "code",
   "execution_count": null,
   "id": "340d4192",
   "metadata": {
    "slideshow": {
     "slide_type": "subslide"
    }
   },
   "outputs": [],
   "source": [
    "for i in range(10):\n",
    "    print(i)"
   ]
  },
  {
   "cell_type": "code",
   "execution_count": null,
   "id": "4a84572f",
   "metadata": {
    "slideshow": {
     "slide_type": "subslide"
    }
   },
   "outputs": [],
   "source": [
    "for i in range(1, 10):\n",
    "    print(i)"
   ]
  },
  {
   "cell_type": "code",
   "execution_count": null,
   "id": "1c03794e",
   "metadata": {
    "scrolled": true,
    "slideshow": {
     "slide_type": "subslide"
    }
   },
   "outputs": [],
   "source": [
    "for i in range(1, 10, 2):\n",
    "    print(i)"
   ]
  },
  {
   "cell_type": "markdown",
   "id": "00d4e277",
   "metadata": {
    "slideshow": {
     "slide_type": "slide"
    }
   },
   "source": [
    "### 2.2 in variable\n",
    "Se puede hacer \"in variable\" donde variable es algún tipo de dato que se puede recorrer. Hasta el momento conocemos a uno que es el _string_."
   ]
  },
  {
   "cell_type": "code",
   "execution_count": null,
   "id": "31a7f33b",
   "metadata": {
    "slideshow": {
     "slide_type": "fragment"
    }
   },
   "outputs": [],
   "source": [
    "frase = \"hola mundo\"\n",
    "for i in frase:\n",
    "    print(i)"
   ]
  },
  {
   "cell_type": "markdown",
   "id": "b1685010",
   "metadata": {
    "slideshow": {
     "slide_type": "slide"
    }
   },
   "source": [
    "## 3 For anidado\n",
    "Se dice que un `for` es anidado si este está dentro de otro `for`, normalmente se requiere hacer este tipo de for cuando se busca recorrer un objeto que está contenido en otro objeto. Como lo puede ser una matriz 2D que veremos próximamente.\n",
    "```python\n",
    "for i in {recorrer1}:\n",
    "    for j in {recorrer2}:\n",
    "        # linea a correr\n",
    "        # linea a correr\n",
    "```"
   ]
  },
  {
   "cell_type": "markdown",
   "id": "eaecc61e",
   "metadata": {
    "slideshow": {
     "slide_type": "subslide"
    }
   },
   "source": [
    "### [Ejemplo](https://aprendeconalf.es/docencia/python/ejercicios/bucles/#ejercicio-6)\n",
    "Escribir un programa que pida al usuario un número entero y muestre por pantalla un triángulo rectángulo como el de más abajo, de altura el número introducido.\n",
    "```py\n",
    "*\n",
    "**\n",
    "***\n",
    "****\n",
    "*****\n",
    "```"
   ]
  },
  {
   "cell_type": "code",
   "execution_count": null,
   "id": "712af7cd",
   "metadata": {
    "slideshow": {
     "slide_type": "fragment"
    }
   },
   "outputs": [],
   "source": [
    "# solución del ejercicio"
   ]
  },
  {
   "cell_type": "markdown",
   "id": "599cae07",
   "metadata": {
    "slideshow": {
     "slide_type": "slide"
    }
   },
   "source": [
    "## 4 continue y break\n",
    "Estas dos funciones sirven para pasar a la siguiente iteración y para romper la iteración respectivamente.\n",
    "\n",
    "Veremos dos ejemplos rápidos."
   ]
  },
  {
   "cell_type": "code",
   "execution_count": null,
   "id": "aeb009f5",
   "metadata": {
    "slideshow": {
     "slide_type": "fragment"
    }
   },
   "outputs": [],
   "source": [
    "for i in range(1, 10):\n",
    "    if i == 3:\n",
    "        continue\n",
    "    print(\"saludo\", i)"
   ]
  },
  {
   "cell_type": "code",
   "execution_count": null,
   "id": "c12240e9",
   "metadata": {
    "slideshow": {
     "slide_type": "fragment"
    }
   },
   "outputs": [],
   "source": [
    "for i in range(1, 10):\n",
    "    if i == 3:\n",
    "        break\n",
    "    print(\"saludo\", i)"
   ]
  }
 ],
 "metadata": {
  "celltoolbar": "Slideshow",
  "kernelspec": {
   "display_name": "Python 3 (ipykernel)",
   "language": "python",
   "name": "python3"
  },
  "language_info": {
   "codemirror_mode": {
    "name": "ipython",
    "version": 3
   },
   "file_extension": ".py",
   "mimetype": "text/x-python",
   "name": "python",
   "nbconvert_exporter": "python",
   "pygments_lexer": "ipython3",
   "version": "3.8.10"
  }
 },
 "nbformat": 4,
 "nbformat_minor": 5
}
