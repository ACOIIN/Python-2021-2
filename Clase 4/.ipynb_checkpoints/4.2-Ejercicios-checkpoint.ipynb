{
 "cells": [
  {
   "cell_type": "markdown",
   "id": "d9492211",
   "metadata": {},
   "source": [
    "# Ejercicios"
   ]
  },
  {
   "cell_type": "markdown",
   "id": "cb803609",
   "metadata": {},
   "source": [
    "## 1. [Triángulo rectángulo](https://aprendeconalf.es/docencia/python/ejercicios/bucles/#ejercicio-8)\n",
    "Escribir un programa que pida al usuario un número entero y muestre por pantalla un triángulo rectángulo como el de más abajo, de altura el número introducido.\n",
    "\n",
    "```py\n",
    "1\n",
    "3 1\n",
    "5 3 1\n",
    "7 5 3 1\n",
    "9 7 5 3 1\n",
    "```"
   ]
  },
  {
   "cell_type": "code",
   "execution_count": 2,
   "id": "88a1f865",
   "metadata": {},
   "outputs": [
    {
     "name": "stdout",
     "output_type": "stream",
     "text": [
      "ingresa la altura: 5\n",
      "0 :  1 \n",
      "1 :  3 1 \n",
      "2 :  5 3 1 \n",
      "3 :  7 5 3 1 \n",
      "4 :  9 7 5 3 1 \n"
     ]
    }
   ],
   "source": [
    "n = int(input(\"ingresa la altura: \"))\n",
    "\n",
    "for i  in range(n):\n",
    "    nivel = \"\"\n",
    "    # j : 0 ... \n",
    "    for j in range(i + 1):\n",
    "        x = (2*i+1) - (2 * j)\n",
    "        nivel += str(x) + \" \"\n",
    "    print(i, ': ', nivel)"
   ]
  },
  {
   "attachments": {
    "image.png": {
     "image/png": "[encoded data removed]"
    }
   },
   "cell_type": "markdown",
   "id": "5dcec30e",
   "metadata": {},
   "source": [
    "## 2. [Cuadrado de un par](https://www.urionlinejudge.com.br/judge/es/problems/view/1073)\n",
    "Leer un entero **N**. Imprimir el cuadrado para cada uno de los valores pares desde 1 hasta **N** incluyendo **N** si es el caso.\n",
    "![image.png](attachment:image.png)"
   ]
  },
  {
   "cell_type": "code",
   "execution_count": 6,
   "id": "18fbf2da",
   "metadata": {},
   "outputs": [
    {
     "name": "stdout",
     "output_type": "stream",
     "text": [
      "ingresa el valor de N: 10\n",
      "1^1 = 1\n",
      "2^2 = 4\n",
      "3^3 = 9\n",
      "4^4 = 16\n",
      "5^5 = 25\n",
      "6^6 = 36\n",
      "7^7 = 49\n",
      "8^8 = 64\n",
      "9^9 = 81\n",
      "10^10 = 100\n"
     ]
    }
   ],
   "source": [
    "N = int(input(\"ingresa el valor de N: \"))\n",
    "# 1 ... N\n",
    "\n",
    "# imprimir los cuadrados de los números pares hasta N\n",
    "\n",
    "for i in range(1, N + 1):\n",
    "    if N % 2 == 0: # REVISO PARIDAD\n",
    "        print(f\"{i}^{i} = {i*i}\")"
   ]
  },
  {
   "cell_type": "markdown",
   "id": "394108f6",
   "metadata": {},
   "source": [
    "## 3. Avance con el proyecto\n",
    "En esta ocasión vamos a hacer que el menú funcioné para más de uan sola corrida. Tu misión ahora es hacer que el menú después de recibir la opción ejecutar la respuesta correcta pueda volver a pedir una opción mientras que el usuario no se salga del programa.\n"
   ]
  },
  {
   "cell_type": "code",
   "execution_count": 8,
   "id": "085d5614",
   "metadata": {},
   "outputs": [
    {
     "name": "stdout",
     "output_type": "stream",
     "text": [
      "🚢 Bienvenido a Batalla naval 🚢\n",
      "1 jugar\n",
      "2 ver mejores marcas\n",
      "3 salir\n",
      "1\n",
      "Jugar\n",
      "1 jugar\n",
      "2 ver mejores marcas\n",
      "3 salir\n",
      "2\n",
      "ver mejores marcas\n",
      "1 jugar\n",
      "2 ver mejores marcas\n",
      "3 salir\n",
      "3\n",
      "Chaoooo\n"
     ]
    }
   ],
   "source": [
    "print(\"🚢 Bienvenido a Batalla naval 🚢\") # mensaje de bienvenida\n",
    "\n",
    "opcion = \"\"\n",
    "\n",
    "while opcion != '3':\n",
    "    print(1, \"jugar\") # opción 1\n",
    "    print(2, \"ver mejores marcas\") # opción 2\n",
    "    print(3, \"salir\") # opción 3\n",
    "\n",
    "    opcion = input() # recibe la opción\n",
    "    if opcion == '1':\n",
    "        print(\"Jugar\")\n",
    "    elif opcion == '2':\n",
    "        print(\"ver mejores marcas\")\n",
    "    elif opcion == '3':\n",
    "        print(\"Chaoooo\")\n",
    "    else:\n",
    "        print(\"opcion escogida es incorrecta\")\n"
   ]
  },
  {
   "cell_type": "code",
   "execution_count": null,
   "id": "ef999e33",
   "metadata": {},
   "outputs": [],
   "source": []
  }
 ],
 "metadata": {
  "kernelspec": {
   "display_name": "Python 3 (ipykernel)",
   "language": "python",
   "name": "python3"
  },
  "language_info": {
   "codemirror_mode": {
    "name": "ipython",
    "version": 3
   },
   "file_extension": ".py",
   "mimetype": "text/x-python",
   "name": "python",
   "nbconvert_exporter": "python",
   "pygments_lexer": "ipython3",
   "version": "3.8.10"
  }
 },
 "nbformat": 4,
 "nbformat_minor": 5
}
