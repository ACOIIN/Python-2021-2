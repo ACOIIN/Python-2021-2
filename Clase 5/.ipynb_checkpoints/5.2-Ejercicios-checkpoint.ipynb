{
 "cells": [
  {
   "cell_type": "markdown",
   "id": "d9492211",
   "metadata": {},
   "source": [
    "# Ejercicios"
   ]
  },
  {
   "cell_type": "markdown",
   "id": "cb803609",
   "metadata": {},
   "source": [
    "## 1. [Asignaturas](https://aprendeconalf.es/docencia/python/ejercicios/listas-tuplas/#ejercicio-3)\n",
    "Escribir un programa que almacene las asignaturas de un curso (por ejemplo Matemáticas, Física, Química, Historia y Lengua) en una lista, pregunte al usuario la nota que ha sacado en cada asignatura, y después las muestre por pantalla con el mensaje En \\<asignatura\\> has sacado \\<nota\\> donde \\<asignatura\\> es cada una des las asignaturas de la lista y \\<nota\\> cada una de las correspondientes notas introducidas por el usuario."
   ]
  },
  {
   "cell_type": "code",
   "execution_count": null,
   "id": "88a1f865",
   "metadata": {},
   "outputs": [],
   "source": [
    "asignaturas = []\n",
    "notas = []\n",
    "\n",
    "# Pedir asignaturas\n",
    "\n",
    "# Preguntar qué nota sacó en cada asignatura\n",
    "\n",
    "# Imprimir para cada asignatura: \"En <asignatura> has sacado <nota>\""
   ]
  },
  {
   "attachments": {},
   "cell_type": "markdown",
   "id": "5dcec30e",
   "metadata": {},
   "source": [
    "## 2. El segundo mayor\n",
    "Dada una lista haga un programa que entregue cuál es el segundo mayor elemento de este y en qué posición está en la lista original."
   ]
  },
  {
   "cell_type": "code",
   "execution_count": null,
   "id": "18fbf2da",
   "metadata": {},
   "outputs": [],
   "source": [
    "lista = [10, 2, 1, 4, 7, 9]\n",
    "\n",
    "# obetener el segundo mayor\n",
    "\n",
    "# encontrar su posición en la lista\n",
    "\n",
    "# Imprimir segundo mayor y su posición"
   ]
  },
  {
   "cell_type": "markdown",
   "id": "394108f6",
   "metadata": {},
   "source": [
    "## 3. Avance con el proyecto\n",
    "En esta ocasión vamos a trabajar en el tablero (por fin). El tablero consistirá en 8 filas y 8 columnas, donde cada casilla representará con un \"\\*\" si no ha sido disparado alguna bomba sobre este y con un \"X\" si ha sido disparado una bomba en él. "
   ]
  },
  {
   "cell_type": "markdown",
   "id": "cc54b10e",
   "metadata": {},
   "source": [
    "### 3.1 Tablero y dispara\n",
    "En este paso deberás crear una matriz de 8 x 8 inicialmente con \"\\*\" e implementar un menú que permita elegir una casilla válida y disparar una bomba sobre él. "
   ]
  },
  {
   "cell_type": "code",
   "execution_count": null,
   "id": "085d5614",
   "metadata": {},
   "outputs": [],
   "source": [
    "tablero = [] # crea el tablero\n",
    "\n",
    "# implementa el menú\n",
    "\n",
    "while True:\n",
    "    fila = int(input(\"¿A qué fila quiere disparar?: \"))\n",
    "    columna = int(input(\"¿A qué fila columna disparar?: \"))\n",
    "    \n",
    "    # Verificar que coordenadas estén en rango\n",
    "    \n",
    "    # Haz el cambio en el tablero\n",
    "    \n",
    "    # Imprime el tablero\n",
    "    \n",
    "    continuar = input(\"aprete '0' para salir... \")\n",
    "    if continuar == '0':\n",
    "        break"
   ]
  },
  {
   "cell_type": "markdown",
   "id": "5151a025",
   "metadata": {},
   "source": [
    "### 3.2 Integrar dentro del menu\n",
    "Integre la función anterior en el menú del juego"
   ]
  },
  {
   "cell_type": "code",
   "execution_count": null,
   "id": "e2d7c674",
   "metadata": {},
   "outputs": [],
   "source": []
  }
 ],
 "metadata": {
  "kernelspec": {
   "display_name": "Python 3 (ipykernel)",
   "language": "python",
   "name": "python3"
  },
  "language_info": {
   "codemirror_mode": {
    "name": "ipython",
    "version": 3
   },
   "file_extension": ".py",
   "mimetype": "text/x-python",
   "name": "python",
   "nbconvert_exporter": "python",
   "pygments_lexer": "ipython3",
   "version": "3.8.10"
  }
 },
 "nbformat": 4,
 "nbformat_minor": 5
}
