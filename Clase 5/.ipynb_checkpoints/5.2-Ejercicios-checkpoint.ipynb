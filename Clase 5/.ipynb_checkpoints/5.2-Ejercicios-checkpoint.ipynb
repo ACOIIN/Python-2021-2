{
 "cells": [
  {
   "cell_type": "markdown",
   "id": "d9492211",
   "metadata": {},
   "source": [
    "# Ejercicios"
   ]
  },
  {
   "cell_type": "markdown",
   "id": "cb803609",
   "metadata": {},
   "source": [
    "## 1. [Asignaturas](https://aprendeconalf.es/docencia/python/ejercicios/listas-tuplas/#ejercicio-3)\n",
    "Escribir un programa que almacene las asignaturas de un curso (por ejemplo Matemáticas, Física, Química, Historia y Lengua) en una lista, pregunte al usuario la nota que ha sacado en cada asignatura, y después las muestre por pantalla con el mensaje \"En \\<asignatura\\> has sacado \\<nota\\>\" donde \\<asignatura\\> es cada una des las asignaturas de la lista y \\<nota\\> cada una de las correspondientes notas introducidas por el usuario."
   ]
  },
  {
   "cell_type": "code",
   "execution_count": null,
   "id": "88a1f865",
   "metadata": {},
   "outputs": [],
   "source": [
    "asignaturas = []\n",
    "notas = []\n",
    "\n",
    "# Pedir asignaturas\n",
    "\n",
    "# Preguntar qué nota sacó en cada asignatura\n",
    "\n",
    "# Imprimir para cada asignatura: \"En <asignatura> has sacado <nota>\""
   ]
  },
  {
   "cell_type": "markdown",
   "id": "5dcec30e",
   "metadata": {},
   "source": [
    "## 2. El segundo mayor\n",
    "Dada una lista haga un programa que entregue cuál es el segundo mayor elemento de este y en qué posición está en la lista original."
   ]
  },
  {
   "cell_type": "code",
   "execution_count": null,
   "id": "18fbf2da",
   "metadata": {},
   "outputs": [],
   "source": [
    "lista = [10, 2, 1, 4, 7, 9]\n",
    "\n",
    "# obetener el segundo mayor\n",
    "\n",
    "# encontrar su posición en la lista original\n",
    "\n",
    "# Imprimir segundo mayor y su posición"
   ]
  },
  {
   "cell_type": "markdown",
   "id": "394108f6",
   "metadata": {},
   "source": [
    "## 3. Avance con el proyecto\n",
    "En esta ocasión vamos a trabajar en el tablero (por fin). El tablero consistirá en 8 filas y 8 columnas, donde cada casilla representará con un \"\\*\" si no ha sido disparado alguna bomba sobre este y con un \"X\" si ha sido disparado una bomba en él. "
   ]
  },
  {
   "cell_type": "markdown",
   "id": "cc54b10e",
   "metadata": {},
   "source": [
    "### 3.1 Tablero y dispara\n",
    "En este paso deberás crear una matriz de 8 x 8 inicialmente con \"\\*\" e implementar un menú que permita elegir una casilla válida y disparar una bomba sobre él. "
   ]
  },
  {
   "cell_type": "code",
   "execution_count": 2,
   "id": "fa9a9679",
   "metadata": {},
   "outputs": [
    {
     "name": "stdout",
     "output_type": "stream",
     "text": [
      "¿A qué fila quiere disparar?: 1\n",
      "¿A qué fila columna disparar?: 1\n",
      "Aqui esta el mapa de la batalla\n",
      "\n",
      "1 0 0 0 0 0 0 0 \n",
      "0 0 0 0 0 0 0 0 \n",
      "0 0 0 0 0 0 0 0 \n",
      "0 0 0 0 0 0 0 0 \n",
      "0 0 0 0 0 0 0 0 \n",
      "0 0 0 0 0 0 0 0 \n",
      "0 0 0 0 0 0 0 0 \n",
      "0 0 0 0 0 0 0 0 \n",
      "aprete '0' para salir... \n",
      "¿A qué fila quiere disparar?: 1\n",
      "¿A qué fila columna disparar?: 1\n",
      "casilla invalida, recuerda que el tablero es de 8x8\n",
      "\n",
      "aprete '0' para salir... 0\n"
     ]
    }
   ],
   "source": [
    "tablero = [[0, 0, 0, 0, 0, 0, 0, 0],\n",
    "          [0, 0, 0, 0, 0, 0, 0, 0],\n",
    "          [0, 0, 0, 0, 0, 0, 0, 0],\n",
    "          [0, 0, 0, 0, 0, 0, 0, 0],\n",
    "          [0, 0, 0, 0, 0, 0, 0, 0],\n",
    "          [0, 0, 0, 0, 0, 0, 0, 0],\n",
    "          [0, 0, 0, 0, 0, 0, 0, 0],\n",
    "          [0, 0, 0, 0, 0, 0, 0, 0]]\n",
    "\n",
    "# tablero = [[0 for i in range(n)] for i in range(n)] tablero version n x n\n",
    "\n",
    "while True:\n",
    "    fila = int(input(\"¿A qué fila quiere disparar?: \"))\n",
    "    \n",
    "    columna = int(input(\"¿A qué fila columna disparar?: \"))\n",
    "    \n",
    "    if 0 < fila < 9 and 0 < columna < 9 and tablero[fila-1][columna-1] != 1:\n",
    "        tablero[fila-1][columna-1] = 1\n",
    "        print(\"Aqui esta el mapa de la batalla\")\n",
    "        for i in range(8):\n",
    "            print(end=\"\\n\")\n",
    "            for j in range(8):\n",
    "                print(tablero[i][j], end=\" \")\n",
    "    else:\n",
    "        print(\"casilla invalida, recuerda que el tablero es de 8x8\")\n",
    "\n",
    "    continuar = input(\"\\naprete '0' para salir... \")\n",
    "    if continuar == '0':\n",
    "        break"
   ]
  },
  {
   "cell_type": "markdown",
   "id": "5151a025",
   "metadata": {},
   "source": [
    "### 3.2 Integrar dentro del menu\n",
    "Integre la función anterior en el menú del juego"
   ]
  },
  {
   "cell_type": "code",
   "execution_count": null,
   "id": "e2d7c674",
   "metadata": {},
   "outputs": [
    {
     "name": "stdout",
     "output_type": "stream",
     "text": [
      "🚢 Bienvenido a Batalla naval 🚢\n",
      "1 jugar\n",
      "2 ver mejores marcas\n",
      "3 salir\n",
      "1\n",
      "Que empiece la acción\n",
      "¿A qué fila quiere disparar?: 1\n",
      "¿A qué fila columna disparar?: 1\n",
      "Aqui esta el mapa de la batalla\n",
      "\n",
      "1 0 0 0 0 0 0 0 \n",
      "0 0 0 0 0 0 0 0 \n",
      "0 0 0 0 0 0 0 0 \n",
      "0 0 0 0 0 0 0 0 \n",
      "0 0 0 0 0 0 0 0 \n",
      "0 0 0 0 0 0 0 0 \n",
      "0 0 0 0 0 0 0 0 \n",
      "0 0 0 0 0 0 0 0 \n",
      "aprete '0' para salir... \n",
      "¿A qué fila quiere disparar?: 2\n",
      "¿A qué fila columna disparar?: 2\n",
      "Aqui esta el mapa de la batalla\n",
      "\n",
      "1 0 0 0 0 0 0 0 \n",
      "0 1 0 0 0 0 0 0 \n",
      "0 0 0 0 0 0 0 0 \n",
      "0 0 0 0 0 0 0 0 \n",
      "0 0 0 0 0 0 0 0 \n",
      "0 0 0 0 0 0 0 0 \n",
      "0 0 0 0 0 0 0 0 \n",
      "0 0 0 0 0 0 0 0 \n",
      "aprete '0' para salir... 0\n",
      "1 jugar\n",
      "2 ver mejores marcas\n",
      "3 salir\n"
     ]
    }
   ],
   "source": [
    "print(\"🚢 Bienvenido a Batalla naval 🚢\") # mensaje de bienvenida\n",
    "\n",
    "opcion = \"\"\n",
    "\n",
    "while opcion != '3':\n",
    "    print(1, \"jugar\") # opción 1\n",
    "    print(2, \"ver mejores marcas\") # opción 2\n",
    "    print(3, \"salir\") # opción 3\n",
    "\n",
    "    opcion = input() # recibe la opción\n",
    "    if opcion == '1':\n",
    "        print(\"Que empiece la acción\")\n",
    "        \n",
    "        tablero = [[0, 0, 0, 0, 0, 0, 0, 0],\n",
    "          [0, 0, 0, 0, 0, 0, 0, 0],\n",
    "          [0, 0, 0, 0, 0, 0, 0, 0],\n",
    "          [0, 0, 0, 0, 0, 0, 0, 0],\n",
    "          [0, 0, 0, 0, 0, 0, 0, 0],\n",
    "          [0, 0, 0, 0, 0, 0, 0, 0],\n",
    "          [0, 0, 0, 0, 0, 0, 0, 0],\n",
    "          [0, 0, 0, 0, 0, 0, 0, 0]]\n",
    "\n",
    "        # tablero = [[0 for i in range(n)] for i in range(n)] tablero version n x n\n",
    "\n",
    "        while True:\n",
    "            fila = int(input(\"¿A qué fila quiere disparar?: \"))\n",
    "\n",
    "            columna = int(input(\"¿A qué fila columna disparar?: \"))\n",
    "\n",
    "            if 0 < fila < 9 and 0 < columna < 9 and tablero[fila-1][columna-1] != 1:\n",
    "                tablero[fila-1][columna-1] = 1\n",
    "                print(\"Aqui esta el mapa de la batalla\")\n",
    "                for i in range(8):\n",
    "                    print(end=\"\\n\")\n",
    "                    for j in range(8):\n",
    "                        print(tablero[i][j], end=\" \")\n",
    "            else:\n",
    "                print(\"casilla invalida, recuerda que el tablero es de 8x8\")\n",
    "\n",
    "            continuar = input(\"\\naprete '0' para salir... \")\n",
    "            if continuar == '0':\n",
    "                break\n",
    "\n",
    "        # implementa el menú\n",
    "    elif opcion == '2':\n",
    "        print(\"ver mejores marcas\")\n",
    "    elif opcion == '3':\n",
    "        print(\"Chaoooo\")\n",
    "    else:\n",
    "        print(\"opcion escogida es incorrecta\")"
   ]
  }
 ],
 "metadata": {
  "kernelspec": {
   "display_name": "Python 3 (ipykernel)",
   "language": "python",
   "name": "python3"
  },
  "language_info": {
   "codemirror_mode": {
    "name": "ipython",
    "version": 3
   },
   "file_extension": ".py",
   "mimetype": "text/x-python",
   "name": "python",
   "nbconvert_exporter": "python",
   "pygments_lexer": "ipython3",
   "version": "3.8.10"
  }
 },
 "nbformat": 4,
 "nbformat_minor": 5
}
