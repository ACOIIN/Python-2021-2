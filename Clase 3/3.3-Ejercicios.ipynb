{
 "cells": [
  {
   "cell_type": "markdown",
   "id": "d9492211",
   "metadata": {},
   "source": [
    "# Ejercicios"
   ]
  },
  {
   "cell_type": "markdown",
   "id": "cb803609",
   "metadata": {},
   "source": [
    "## 1. Número de Lenny\n",
    "Un número de Lenny es un número n de cinco dígitos que cumple:\n",
    "\n",
    "1. El número formado por los últimos dos dígitos de n es un divisor de n\n",
    "2. El primer dígito es menor al tercero\n",
    "3. El segundo dígito es mayor al quinto\n",
    "4. El cuarto dígito es menor o igual al quinto\n",
    "\n",
    "\n",
    "Recibirás un número entero como entrada y tu misión es imprimir cada una de las cuatro comparaciones enlistadas, es decir, booleanos indicando si se cumplen o no las comparaciones enlistadas (en el orden que se muestra en introducción y una en cada línea), para finalmente mostrar si es un número de Lenny con el string \"LENNY!\", o \"NOT LENNY!\" si no es un número de Lenny."
   ]
  },
  {
   "cell_type": "code",
   "execution_count": null,
   "id": "88a1f865",
   "metadata": {},
   "outputs": [],
   "source": [
    "# Recibir n\n",
    "\n",
    "# ver 1ra condición\n",
    "# ver 2ra condición\n",
    "# ver 3ra condición\n",
    "# ver 4ra condición\n",
    "\n",
    "# imprimir \"LENNY!\" si es numero de lenny o \"NOT LENNY\" si no lo es."
   ]
  },
  {
   "cell_type": "markdown",
   "id": "5dcec30e",
   "metadata": {},
   "source": [
    "## 2. [Una sandía](https://codeforces.com/problemset/problem/4/A)\n",
    "Un caluroso día de verano, Pete y su amigo Billy decidieron comprar una sandía. Eligieron el más grande y maduro, en su opinión. Después de eso, se pesó la sandía y la balanza mostró w kilos. Se apresuraron a casa, muriéndose de sed, y decidieron dividir la sandía, sin embargo, enfrentaron un problema difícil.\n",
    "\n",
    "Pete y Billy son grandes fanáticos de los números pares, por eso quieren dividir la sandía de tal manera que **cada una de las dos partes pese número par de kilos**, al mismo tiempo no es obligatorio que las partes sean iguales. Los niños están extremadamente cansados y quieren comenzar su comida lo antes posible, por eso debes ayudarlos y averiguar si pueden dividir la sandía de la manera que quieran. Por supuesto, cada uno de ellos debería obtener una parte del peso positivo.\n"
   ]
  },
  {
   "cell_type": "code",
   "execution_count": null,
   "id": "18fbf2da",
   "metadata": {},
   "outputs": [],
   "source": [
    "# recibir w \n",
    "\n",
    "# imprimir \"YES\" si es que se puede dividir la sandía como se pide o \"NO\" si que es no se puede"
   ]
  },
  {
   "cell_type": "markdown",
   "id": "394108f6",
   "metadata": {},
   "source": [
    "## 3. Avance con el proyecto\n",
    "En esta ocasión vamos a darle un poco más de dinámismo a la menú principal del juego. Deberás implementar un control de flujo en donde para la opción escogida por el jugador imprima lo siguiente:\n",
    "\n",
    "* si escoge *jugar*: deberás recibir el nombre del jugador y guardarlo para posteriormente imprimir \"Hola, {nombre}. Encontrando partida...\".\n",
    "* si escoge *ver mejores marcas*: imprimir \"1 ..... \\n2 ..... \\n3 ..... \\n\".\n",
    "* si escoge *salir*: imprimir \"Hasta la próxima, marinero ARRR!\".\n"
   ]
  },
  {
   "cell_type": "code",
   "execution_count": null,
   "id": "085d5614",
   "metadata": {},
   "outputs": [],
   "source": [
    "print(\"🚢 Bienvenido a Batalla naval 🚢\") # mensaje de bienvenida\n",
    "\n",
    "print(1, \"jugar\") # opción 1\n",
    "print(2, \"ver mejores marcas\") # opción 2\n",
    "print(3, \"salir\") # opción 3\n",
    "\n",
    "opcion = input() # recibe la opción\n",
    "\n",
    "print(f\"Tu opción escogida es la número {opcion}\") # impresión de opción escogida\n",
    "\n",
    "\n",
    "# Control de flujo \n"
   ]
  }
 ],
 "metadata": {
  "kernelspec": {
   "display_name": "Python 3 (ipykernel)",
   "language": "python",
   "name": "python3"
  },
  "language_info": {
   "codemirror_mode": {
    "name": "ipython",
    "version": 3
   },
   "file_extension": ".py",
   "mimetype": "text/x-python",
   "name": "python",
   "nbconvert_exporter": "python",
   "pygments_lexer": "ipython3",
   "version": "3.8.10"
  }
 },
 "nbformat": 4,
 "nbformat_minor": 5
}
